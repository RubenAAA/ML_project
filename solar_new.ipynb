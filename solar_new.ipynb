{
 "cells": [
  {
   "cell_type": "markdown",
   "metadata": {},
   "source": [
    "# Solar Dataset Analysis"
   ]
  },
  {
   "cell_type": "code",
   "execution_count": 2,
   "metadata": {},
   "outputs": [],
   "source": [
    "# Import Required Libraries\n",
    "import warnings\n",
    "import numpy as np\n",
    "import pandas as pd\n",
    "import seaborn as sns\n",
    "from scipy import stats\n",
    "import matplotlib.pyplot as plt\n",
    "from sklearn.decomposition import PCA\n",
    "from sklearn.linear_model import Lasso\n",
    "from sklearn.metrics import mean_squared_error\n",
    "from sklearn.pipeline import Pipeline\n",
    "from sklearn.model_selection import train_test_split\n",
    "from sklearn.preprocessing import StandardScaler\n",
    "from keras.models import Sequential\n",
    "from keras.layers import Dense\n",
    "from keras.optimizers import Adam\n",
    "import statsmodels.api as sm\n",
    "from sklearn.feature_selection import RFE\n",
    "from sklearn.feature_selection import SelectKBest, f_regression\n",
    "from sklearn.ensemble import RandomForestRegressor, GradientBoostingRegressor\n",
    "from mlxtend.feature_selection import SequentialFeatureSelector\n",
    "import plotly.express as px\n",
    "import plotly.graph_objects as go"
   ]
  },
  {
   "cell_type": "markdown",
   "metadata": {},
   "source": [
    "## Load and Prepare Data"
   ]
  },
  {
   "cell_type": "code",
   "execution_count": null,
   "metadata": {},
   "outputs": [],
   "source": []
  },
  {
   "cell_type": "code",
   "execution_count": 28,
   "metadata": {},
   "outputs": [
    {
     "name": "stderr",
     "output_type": "stream",
     "text": [
      "C:\\Users\\ruben\\AppData\\Local\\Temp\\ipykernel_7932\\551165410.py:33: SettingWithCopyWarning:\n",
      "\n",
      "\n",
      "A value is trying to be set on a copy of a slice from a DataFrame\n",
      "\n",
      "See the caveats in the documentation: https://pandas.pydata.org/pandas-docs/stable/user_guide/indexing.html#returning-a-view-versus-a-copy\n",
      "\n"
     ]
    }
   ],
   "source": [
    "def load_and_merge_datasets(solar_data_path, additional_data_path, preds):\n",
    "    # Load datasets\n",
    "    df_solar = pd.read_csv(solar_data_path)\n",
    "    df_additional = pd.read_csv(additional_data_path)\n",
    "\n",
    "    # Select columns that start with 'PC' and add 'ACME' and 'Date'\n",
    "    pc_columns = [col for col in df_solar.columns if col.startswith(\"PC\")]\n",
    "    # pc_columns.extend([\"ACME\", \"Date\", \"NINN\", \"CHIC\", \"APAC\", \"KETC\"])\n",
    "    pc_columns.extend([\"ACME\", \"Date\"])\n",
    "\n",
    "    # Create DataFrame with selected columns and merge\n",
    "    df_pc = df_solar[pc_columns]\n",
    "    df_merged = pd.merge(df_pc, df_additional, on=\"Date\")\n",
    "    \n",
    "    # Convert date format\n",
    "    df_merged[\"Date\"] = pd.to_datetime(df_merged[\"Date\"], format='%Y%m%d')\n",
    "\n",
    "    # one hot encoding for months\n",
    "    df_merged['month'] = df_merged[\"Date\"].dt.month\n",
    "    month_dummies = pd.get_dummies(df_merged['month'], prefix='month', drop_first=True)\n",
    "    # Convert the dummy variables to integer type\n",
    "    month_dummies = month_dummies.astype(int)\n",
    "    df_merged = pd.concat([df_merged, month_dummies], axis=1)\n",
    "    df_merged.drop([\"Date\", 'month'], axis=1, inplace=True)\n",
    "    \n",
    "\n",
    "    if preds:\n",
    "        df_clean = df_merged[df_merged['ACME'].isna()]\n",
    "    else:\n",
    "        # Drop rows with NaN in 'ACME'. it messes up the prediction models\n",
    "        df_clean = df_merged.dropna(subset=['ACME'])\n",
    "    # Handle missing values in the independent variables by filling with the mode\n",
    "    df_clean.fillna(df_clean.mode().iloc[0], inplace=True)\n",
    "\n",
    "    return df_clean\n",
    "\n",
    "# Load the datasets\n",
    "df_merged = load_and_merge_datasets(\"solar_dataset.csv\", \"additional_variables.csv\", False)"
   ]
  },
  {
   "cell_type": "markdown",
   "metadata": {},
   "source": [
    "## Visualization on a map"
   ]
  },
  {
   "cell_type": "code",
   "execution_count": 4,
   "metadata": {},
   "outputs": [
    {
     "data": {
      "application/vnd.plotly.v1+json": {
       "config": {
        "plotlyServerURL": "https://plot.ly"
       },
       "data": [
        {
         "hovertemplate": "<b>%{hovertext}</b><br><br>elev=%{marker.color}<br>nlat=%{lat}<br>elon=%{lon}<extra></extra>",
         "hovertext": [
          "ACME",
          "ADAX",
          "ALTU",
          "APAC",
          "ARNE",
          "BEAV",
          "BESS",
          "BIXB",
          "BLAC",
          "BOIS",
          "BOWL",
          "BREC",
          "BRIS",
          "BUFF",
          "BURB",
          "BURN",
          "BUTL",
          "BYAR",
          "CAMA",
          "CENT",
          "CHAN",
          "CHER",
          "CHEY",
          "CHIC",
          "CLAY",
          "CLOU",
          "COOK",
          "COPA",
          "DURA",
          "ELRE",
          "ERIC",
          "EUFA",
          "FAIR",
          "FORA",
          "FREE",
          "FTCB",
          "GOOD",
          "GUTH",
          "HASK",
          "HINT",
          "HOBA",
          "HOLL",
          "HOOK",
          "HUGO",
          "IDAB",
          "JAYX",
          "KENT",
          "KETC",
          "LAHO",
          "LANE",
          "MADI",
          "MANG",
          "MARE",
          "MAYR",
          "MCAL",
          "MEDF",
          "MEDI",
          "MIAM",
          "MINC",
          "MTHE",
          "NEWK",
          "NINN",
          "NOWA",
          "OILT",
          "OKEM",
          "OKMU",
          "PAUL",
          "PAWN",
          "PERK",
          "PRYO",
          "PUTN",
          "REDR",
          "RETR",
          "RING",
          "SALL",
          "SEIL",
          "SHAW",
          "SKIA",
          "SLAP",
          "SPEN",
          "STIG",
          "STIL",
          "STUA",
          "SULP",
          "TAHL",
          "TALI",
          "TIPT",
          "TISH",
          "VINI",
          "WASH",
          "WATO",
          "WAUR",
          "WEAT",
          "WEST",
          "WILB",
          "WIST",
          "WOOD",
          "WYNO"
         ],
         "lat": [
          34.80833,
          34.79851,
          34.58722,
          34.91418,
          36.07204,
          36.80253,
          35.40185,
          35.96305,
          36.75443,
          36.69256,
          35.17156,
          36.41201,
          35.7805,
          36.83129,
          36.63459,
          33.89376,
          35.5915,
          34.8497,
          36.02866,
          34.60896,
          35.65282,
          36.74813,
          35.54615,
          35.03236,
          34.65657,
          34.22321,
          35.68001,
          36.90987,
          33.92075,
          35.54848,
          35.20494,
          35.30324,
          36.26353,
          36.84053,
          36.72562,
          35.14887,
          36.60183,
          35.84891,
          35.74798,
          35.48439,
          34.98971,
          34.6855,
          36.85518,
          34.03084,
          33.83013,
          36.4821,
          36.82937,
          34.52887,
          36.38435,
          34.30876,
          34.03579,
          34.83592,
          36.06434,
          36.98707,
          34.88231,
          36.79242,
          34.72921,
          36.88832,
          35.27225,
          34.31072,
          36.8981,
          34.96774,
          36.74374,
          36.03126,
          35.43172,
          35.58211,
          34.7155,
          36.36114,
          35.99865,
          36.36914,
          35.89904,
          36.3559,
          35.12275,
          34.19365,
          35.43815,
          36.19033,
          35.36492,
          36.4153,
          36.59749,
          35.54208,
          35.26527,
          36.12093,
          34.87642,
          34.5661,
          35.97235,
          34.7107,
          34.43972,
          34.33262,
          36.77536,
          34.98224,
          35.84185,
          34.16775,
          35.5083,
          36.011,
          34.90092,
          34.98426,
          36.42329,
          36.51806
         ],
         "legendgroup": "",
         "lon": [
          -98.02325,
          -96.66909,
          -99.33808,
          -98.29216,
          -99.90308,
          -100.53012,
          -99.05847,
          -95.86621,
          -97.25452,
          -102.49713,
          -96.63121,
          -97.69394,
          -96.35404,
          -99.64101,
          -96.81046,
          -97.26918,
          -99.27059,
          -97.0033,
          -99.34652,
          -96.33309,
          -96.80407,
          -98.36274,
          -99.7279,
          -97.91446,
          -95.32596,
          -95.2487,
          -94.84896,
          -95.88553,
          -96.32027,
          -98.03654,
          -99.80344,
          -95.65707,
          -98.49766,
          -96.42777,
          -99.14234,
          -98.46607,
          -101.6013,
          -97.47978,
          -95.64047,
          -98.48151,
          -99.05283,
          -99.83331,
          -101.22547,
          -95.54011,
          -94.8803,
          -94.78287,
          -102.8782,
          -97.76484,
          -98.11139,
          -95.99716,
          -96.94394,
          -99.42398,
          -97.21271,
          -99.01109,
          -95.78096,
          -97.74577,
          -98.56936,
          -94.84437,
          -97.95553,
          -94.82275,
          -96.91035,
          -97.95202,
          -95.60795,
          -96.49749,
          -96.26265,
          -95.91473,
          -97.22924,
          -96.76986,
          -97.04831,
          -95.27138,
          -98.96038,
          -97.15306,
          -99.36001,
          -97.58812,
          -94.79805,
          -99.0403,
          -96.94822,
          -96.03706,
          -100.26192,
          -97.34146,
          -95.18116,
          -97.09527,
          -96.06982,
          -96.95048,
          -94.98671,
          -95.01152,
          -99.13755,
          -96.67895,
          -95.22094,
          -97.52109,
          -98.52615,
          -97.98815,
          -98.77509,
          -94.64496,
          -95.34805,
          -94.68778,
          -99.41682,
          -96.34222
         ],
         "marker": {
          "color": [
           397,
           295,
           416,
           440,
           719,
           758,
           511,
           184,
           304,
           1267,
           281,
           352,
           239,
           559,
           301,
           228,
           520,
           345,
           589,
           208,
           291,
           362,
           694,
           328,
           186,
           221,
           299,
           250,
           197,
           419,
           603,
           200,
           405,
           330,
           530,
           422,
           997,
           330,
           183,
           493,
           478,
           497,
           912,
           175,
           110,
           304,
           1322,
           341,
           396,
           181,
           232,
           460,
           327,
           555,
           230,
           332,
           487,
           247,
           430,
           284,
           366,
           356,
           206,
           255,
           263,
           205,
           291,
           283,
           292,
           201,
           589,
           293,
           538,
           283,
           157,
           545,
           328,
           282,
           774,
           373,
           173,
           272,
           256,
           320,
           290,
           204,
           387,
           268,
           236,
           345,
           517,
           283,
           538,
           348,
           199,
           143,
           625,
           269
          ],
          "coloraxis": "coloraxis",
          "size": [
           397,
           295,
           416,
           440,
           719,
           758,
           511,
           184,
           304,
           1267,
           281,
           352,
           239,
           559,
           301,
           228,
           520,
           345,
           589,
           208,
           291,
           362,
           694,
           328,
           186,
           221,
           299,
           250,
           197,
           419,
           603,
           200,
           405,
           330,
           530,
           422,
           997,
           330,
           183,
           493,
           478,
           497,
           912,
           175,
           110,
           304,
           1322,
           341,
           396,
           181,
           232,
           460,
           327,
           555,
           230,
           332,
           487,
           247,
           430,
           284,
           366,
           356,
           206,
           255,
           263,
           205,
           291,
           283,
           292,
           201,
           589,
           293,
           538,
           283,
           157,
           545,
           328,
           282,
           774,
           373,
           173,
           272,
           256,
           320,
           290,
           204,
           387,
           268,
           236,
           345,
           517,
           283,
           538,
           348,
           199,
           143,
           625,
           269
          ],
          "sizemode": "area",
          "sizeref": 3.305
         },
         "mode": "markers",
         "name": "",
         "showlegend": false,
         "subplot": "mapbox",
         "type": "scattermapbox"
        },
        {
         "lat": [
          34.80833
         ],
         "lon": [
          -98.02325
         ],
         "marker": {
          "color": "red",
          "size": 5000,
          "symbol": "star"
         },
         "mode": "markers",
         "name": "ACME",
         "showlegend": true,
         "type": "scattermapbox"
        }
       ],
       "layout": {
        "coloraxis": {
         "colorbar": {
          "title": {
           "text": "elev"
          }
         },
         "colorscale": [
          [
           0,
           "#440154"
          ],
          [
           0.1111111111111111,
           "#482878"
          ],
          [
           0.2222222222222222,
           "#3e4989"
          ],
          [
           0.3333333333333333,
           "#31688e"
          ],
          [
           0.4444444444444444,
           "#26828e"
          ],
          [
           0.5555555555555556,
           "#1f9e89"
          ],
          [
           0.6666666666666666,
           "#35b779"
          ],
          [
           0.7777777777777778,
           "#6ece58"
          ],
          [
           0.8888888888888888,
           "#b5de2b"
          ],
          [
           1,
           "#fde725"
          ]
         ]
        },
        "legend": {
         "itemsizing": "constant",
         "tracegroupgap": 0
        },
        "mapbox": {
         "center": {
          "lat": 35.57167785714286,
          "lon": -97.43234897959185
         },
         "domain": {
          "x": [
           0,
           1
          ],
          "y": [
           0,
           1
          ]
         },
         "style": "open-street-map",
         "zoom": 8
        },
        "template": {
         "data": {
          "bar": [
           {
            "error_x": {
             "color": "#2a3f5f"
            },
            "error_y": {
             "color": "#2a3f5f"
            },
            "marker": {
             "line": {
              "color": "#E5ECF6",
              "width": 0.5
             },
             "pattern": {
              "fillmode": "overlay",
              "size": 10,
              "solidity": 0.2
             }
            },
            "type": "bar"
           }
          ],
          "barpolar": [
           {
            "marker": {
             "line": {
              "color": "#E5ECF6",
              "width": 0.5
             },
             "pattern": {
              "fillmode": "overlay",
              "size": 10,
              "solidity": 0.2
             }
            },
            "type": "barpolar"
           }
          ],
          "carpet": [
           {
            "aaxis": {
             "endlinecolor": "#2a3f5f",
             "gridcolor": "white",
             "linecolor": "white",
             "minorgridcolor": "white",
             "startlinecolor": "#2a3f5f"
            },
            "baxis": {
             "endlinecolor": "#2a3f5f",
             "gridcolor": "white",
             "linecolor": "white",
             "minorgridcolor": "white",
             "startlinecolor": "#2a3f5f"
            },
            "type": "carpet"
           }
          ],
          "choropleth": [
           {
            "colorbar": {
             "outlinewidth": 0,
             "ticks": ""
            },
            "type": "choropleth"
           }
          ],
          "contour": [
           {
            "colorbar": {
             "outlinewidth": 0,
             "ticks": ""
            },
            "colorscale": [
             [
              0,
              "#0d0887"
             ],
             [
              0.1111111111111111,
              "#46039f"
             ],
             [
              0.2222222222222222,
              "#7201a8"
             ],
             [
              0.3333333333333333,
              "#9c179e"
             ],
             [
              0.4444444444444444,
              "#bd3786"
             ],
             [
              0.5555555555555556,
              "#d8576b"
             ],
             [
              0.6666666666666666,
              "#ed7953"
             ],
             [
              0.7777777777777778,
              "#fb9f3a"
             ],
             [
              0.8888888888888888,
              "#fdca26"
             ],
             [
              1,
              "#f0f921"
             ]
            ],
            "type": "contour"
           }
          ],
          "contourcarpet": [
           {
            "colorbar": {
             "outlinewidth": 0,
             "ticks": ""
            },
            "type": "contourcarpet"
           }
          ],
          "heatmap": [
           {
            "colorbar": {
             "outlinewidth": 0,
             "ticks": ""
            },
            "colorscale": [
             [
              0,
              "#0d0887"
             ],
             [
              0.1111111111111111,
              "#46039f"
             ],
             [
              0.2222222222222222,
              "#7201a8"
             ],
             [
              0.3333333333333333,
              "#9c179e"
             ],
             [
              0.4444444444444444,
              "#bd3786"
             ],
             [
              0.5555555555555556,
              "#d8576b"
             ],
             [
              0.6666666666666666,
              "#ed7953"
             ],
             [
              0.7777777777777778,
              "#fb9f3a"
             ],
             [
              0.8888888888888888,
              "#fdca26"
             ],
             [
              1,
              "#f0f921"
             ]
            ],
            "type": "heatmap"
           }
          ],
          "heatmapgl": [
           {
            "colorbar": {
             "outlinewidth": 0,
             "ticks": ""
            },
            "colorscale": [
             [
              0,
              "#0d0887"
             ],
             [
              0.1111111111111111,
              "#46039f"
             ],
             [
              0.2222222222222222,
              "#7201a8"
             ],
             [
              0.3333333333333333,
              "#9c179e"
             ],
             [
              0.4444444444444444,
              "#bd3786"
             ],
             [
              0.5555555555555556,
              "#d8576b"
             ],
             [
              0.6666666666666666,
              "#ed7953"
             ],
             [
              0.7777777777777778,
              "#fb9f3a"
             ],
             [
              0.8888888888888888,
              "#fdca26"
             ],
             [
              1,
              "#f0f921"
             ]
            ],
            "type": "heatmapgl"
           }
          ],
          "histogram": [
           {
            "marker": {
             "pattern": {
              "fillmode": "overlay",
              "size": 10,
              "solidity": 0.2
             }
            },
            "type": "histogram"
           }
          ],
          "histogram2d": [
           {
            "colorbar": {
             "outlinewidth": 0,
             "ticks": ""
            },
            "colorscale": [
             [
              0,
              "#0d0887"
             ],
             [
              0.1111111111111111,
              "#46039f"
             ],
             [
              0.2222222222222222,
              "#7201a8"
             ],
             [
              0.3333333333333333,
              "#9c179e"
             ],
             [
              0.4444444444444444,
              "#bd3786"
             ],
             [
              0.5555555555555556,
              "#d8576b"
             ],
             [
              0.6666666666666666,
              "#ed7953"
             ],
             [
              0.7777777777777778,
              "#fb9f3a"
             ],
             [
              0.8888888888888888,
              "#fdca26"
             ],
             [
              1,
              "#f0f921"
             ]
            ],
            "type": "histogram2d"
           }
          ],
          "histogram2dcontour": [
           {
            "colorbar": {
             "outlinewidth": 0,
             "ticks": ""
            },
            "colorscale": [
             [
              0,
              "#0d0887"
             ],
             [
              0.1111111111111111,
              "#46039f"
             ],
             [
              0.2222222222222222,
              "#7201a8"
             ],
             [
              0.3333333333333333,
              "#9c179e"
             ],
             [
              0.4444444444444444,
              "#bd3786"
             ],
             [
              0.5555555555555556,
              "#d8576b"
             ],
             [
              0.6666666666666666,
              "#ed7953"
             ],
             [
              0.7777777777777778,
              "#fb9f3a"
             ],
             [
              0.8888888888888888,
              "#fdca26"
             ],
             [
              1,
              "#f0f921"
             ]
            ],
            "type": "histogram2dcontour"
           }
          ],
          "mesh3d": [
           {
            "colorbar": {
             "outlinewidth": 0,
             "ticks": ""
            },
            "type": "mesh3d"
           }
          ],
          "parcoords": [
           {
            "line": {
             "colorbar": {
              "outlinewidth": 0,
              "ticks": ""
             }
            },
            "type": "parcoords"
           }
          ],
          "pie": [
           {
            "automargin": true,
            "type": "pie"
           }
          ],
          "scatter": [
           {
            "fillpattern": {
             "fillmode": "overlay",
             "size": 10,
             "solidity": 0.2
            },
            "type": "scatter"
           }
          ],
          "scatter3d": [
           {
            "line": {
             "colorbar": {
              "outlinewidth": 0,
              "ticks": ""
             }
            },
            "marker": {
             "colorbar": {
              "outlinewidth": 0,
              "ticks": ""
             }
            },
            "type": "scatter3d"
           }
          ],
          "scattercarpet": [
           {
            "marker": {
             "colorbar": {
              "outlinewidth": 0,
              "ticks": ""
             }
            },
            "type": "scattercarpet"
           }
          ],
          "scattergeo": [
           {
            "marker": {
             "colorbar": {
              "outlinewidth": 0,
              "ticks": ""
             }
            },
            "type": "scattergeo"
           }
          ],
          "scattergl": [
           {
            "marker": {
             "colorbar": {
              "outlinewidth": 0,
              "ticks": ""
             }
            },
            "type": "scattergl"
           }
          ],
          "scattermapbox": [
           {
            "marker": {
             "colorbar": {
              "outlinewidth": 0,
              "ticks": ""
             }
            },
            "type": "scattermapbox"
           }
          ],
          "scatterpolar": [
           {
            "marker": {
             "colorbar": {
              "outlinewidth": 0,
              "ticks": ""
             }
            },
            "type": "scatterpolar"
           }
          ],
          "scatterpolargl": [
           {
            "marker": {
             "colorbar": {
              "outlinewidth": 0,
              "ticks": ""
             }
            },
            "type": "scatterpolargl"
           }
          ],
          "scatterternary": [
           {
            "marker": {
             "colorbar": {
              "outlinewidth": 0,
              "ticks": ""
             }
            },
            "type": "scatterternary"
           }
          ],
          "surface": [
           {
            "colorbar": {
             "outlinewidth": 0,
             "ticks": ""
            },
            "colorscale": [
             [
              0,
              "#0d0887"
             ],
             [
              0.1111111111111111,
              "#46039f"
             ],
             [
              0.2222222222222222,
              "#7201a8"
             ],
             [
              0.3333333333333333,
              "#9c179e"
             ],
             [
              0.4444444444444444,
              "#bd3786"
             ],
             [
              0.5555555555555556,
              "#d8576b"
             ],
             [
              0.6666666666666666,
              "#ed7953"
             ],
             [
              0.7777777777777778,
              "#fb9f3a"
             ],
             [
              0.8888888888888888,
              "#fdca26"
             ],
             [
              1,
              "#f0f921"
             ]
            ],
            "type": "surface"
           }
          ],
          "table": [
           {
            "cells": {
             "fill": {
              "color": "#EBF0F8"
             },
             "line": {
              "color": "white"
             }
            },
            "header": {
             "fill": {
              "color": "#C8D4E3"
             },
             "line": {
              "color": "white"
             }
            },
            "type": "table"
           }
          ]
         },
         "layout": {
          "annotationdefaults": {
           "arrowcolor": "#2a3f5f",
           "arrowhead": 0,
           "arrowwidth": 1
          },
          "autotypenumbers": "strict",
          "coloraxis": {
           "colorbar": {
            "outlinewidth": 0,
            "ticks": ""
           }
          },
          "colorscale": {
           "diverging": [
            [
             0,
             "#8e0152"
            ],
            [
             0.1,
             "#c51b7d"
            ],
            [
             0.2,
             "#de77ae"
            ],
            [
             0.3,
             "#f1b6da"
            ],
            [
             0.4,
             "#fde0ef"
            ],
            [
             0.5,
             "#f7f7f7"
            ],
            [
             0.6,
             "#e6f5d0"
            ],
            [
             0.7,
             "#b8e186"
            ],
            [
             0.8,
             "#7fbc41"
            ],
            [
             0.9,
             "#4d9221"
            ],
            [
             1,
             "#276419"
            ]
           ],
           "sequential": [
            [
             0,
             "#0d0887"
            ],
            [
             0.1111111111111111,
             "#46039f"
            ],
            [
             0.2222222222222222,
             "#7201a8"
            ],
            [
             0.3333333333333333,
             "#9c179e"
            ],
            [
             0.4444444444444444,
             "#bd3786"
            ],
            [
             0.5555555555555556,
             "#d8576b"
            ],
            [
             0.6666666666666666,
             "#ed7953"
            ],
            [
             0.7777777777777778,
             "#fb9f3a"
            ],
            [
             0.8888888888888888,
             "#fdca26"
            ],
            [
             1,
             "#f0f921"
            ]
           ],
           "sequentialminus": [
            [
             0,
             "#0d0887"
            ],
            [
             0.1111111111111111,
             "#46039f"
            ],
            [
             0.2222222222222222,
             "#7201a8"
            ],
            [
             0.3333333333333333,
             "#9c179e"
            ],
            [
             0.4444444444444444,
             "#bd3786"
            ],
            [
             0.5555555555555556,
             "#d8576b"
            ],
            [
             0.6666666666666666,
             "#ed7953"
            ],
            [
             0.7777777777777778,
             "#fb9f3a"
            ],
            [
             0.8888888888888888,
             "#fdca26"
            ],
            [
             1,
             "#f0f921"
            ]
           ]
          },
          "colorway": [
           "#636efa",
           "#EF553B",
           "#00cc96",
           "#ab63fa",
           "#FFA15A",
           "#19d3f3",
           "#FF6692",
           "#B6E880",
           "#FF97FF",
           "#FECB52"
          ],
          "font": {
           "color": "#2a3f5f"
          },
          "geo": {
           "bgcolor": "white",
           "lakecolor": "white",
           "landcolor": "#E5ECF6",
           "showlakes": true,
           "showland": true,
           "subunitcolor": "white"
          },
          "hoverlabel": {
           "align": "left"
          },
          "hovermode": "closest",
          "mapbox": {
           "style": "light"
          },
          "paper_bgcolor": "white",
          "plot_bgcolor": "#E5ECF6",
          "polar": {
           "angularaxis": {
            "gridcolor": "white",
            "linecolor": "white",
            "ticks": ""
           },
           "bgcolor": "#E5ECF6",
           "radialaxis": {
            "gridcolor": "white",
            "linecolor": "white",
            "ticks": ""
           }
          },
          "scene": {
           "xaxis": {
            "backgroundcolor": "#E5ECF6",
            "gridcolor": "white",
            "gridwidth": 2,
            "linecolor": "white",
            "showbackground": true,
            "ticks": "",
            "zerolinecolor": "white"
           },
           "yaxis": {
            "backgroundcolor": "#E5ECF6",
            "gridcolor": "white",
            "gridwidth": 2,
            "linecolor": "white",
            "showbackground": true,
            "ticks": "",
            "zerolinecolor": "white"
           },
           "zaxis": {
            "backgroundcolor": "#E5ECF6",
            "gridcolor": "white",
            "gridwidth": 2,
            "linecolor": "white",
            "showbackground": true,
            "ticks": "",
            "zerolinecolor": "white"
           }
          },
          "shapedefaults": {
           "line": {
            "color": "#2a3f5f"
           }
          },
          "ternary": {
           "aaxis": {
            "gridcolor": "white",
            "linecolor": "white",
            "ticks": ""
           },
           "baxis": {
            "gridcolor": "white",
            "linecolor": "white",
            "ticks": ""
           },
           "bgcolor": "#E5ECF6",
           "caxis": {
            "gridcolor": "white",
            "linecolor": "white",
            "ticks": ""
           }
          },
          "title": {
           "x": 0.05
          },
          "xaxis": {
           "automargin": true,
           "gridcolor": "white",
           "linecolor": "white",
           "ticks": "",
           "title": {
            "standoff": 15
           },
           "zerolinecolor": "white",
           "zerolinewidth": 2
          },
          "yaxis": {
           "automargin": true,
           "gridcolor": "white",
           "linecolor": "white",
           "ticks": "",
           "title": {
            "standoff": 15
           },
           "zerolinecolor": "white",
           "zerolinewidth": 2
          }
         }
        },
        "title": {
         "text": "Solar Stations Altitude Gradient"
        }
       }
      }
     },
     "metadata": {},
     "output_type": "display_data"
    }
   ],
   "source": [
    "station_info = pd.read_csv(\"station_info.csv\")\n",
    "\n",
    "# Create a scatter plot map with a gradient based on altitude\n",
    "fig = px.scatter_mapbox(station_info, \n",
    "                        lat=\"nlat\", \n",
    "                        lon=\"elon\", \n",
    "                        color=\"elev\", \n",
    "                        size=\"elev\",\n",
    "                        hover_name=\"stid\",\n",
    "                        color_continuous_scale=px.colors.sequential.Viridis,  # Gradient from low to high\n",
    "                        mapbox_style=\"open-street-map\",\n",
    "                        title=\"Solar Stations Altitude Gradient\")\n",
    "\n",
    "fig.add_trace(go.Scattermapbox(\n",
    "    lat=station_info[station_info['stid'] == 'ACME']['nlat'],\n",
    "    lon=station_info[station_info['stid'] == 'ACME']['elon'],\n",
    "    mode='markers',\n",
    "    marker=go.scattermapbox.Marker(size=5000, symbol='star', color='red'),\n",
    "    name='ACME',\n",
    "    showlegend=True\n",
    "))\n",
    "\n",
    "# Show the figure\n",
    "fig.show()"
   ]
  },
  {
   "cell_type": "markdown",
   "metadata": {},
   "source": [
    "## Descriptive Statistics"
   ]
  },
  {
   "cell_type": "code",
   "execution_count": 5,
   "metadata": {},
   "outputs": [
    {
     "name": "stdout",
     "output_type": "stream",
     "text": [
      "Descriptive Statistics:\n",
      "                PC1          PC2          PC3          PC4          PC5  \\\n",
      "count  5113.000000  5113.000000  5113.000000  5113.000000  5113.000000   \n",
      "mean     -1.727382    -1.875969     3.058668    -1.151610    -1.929864   \n",
      "std     245.472317    94.313038    76.216318    56.112430    51.235680   \n",
      "min    -615.810341  -535.511441  -249.364322  -305.063807  -140.280418   \n",
      "25%    -211.911401   -49.416649   -47.327847   -33.808449   -41.223097   \n",
      "50%       0.698282    15.387460     5.827901    -2.744266    -6.532958   \n",
      "75%     233.489345    62.552427    52.079772    30.010729    37.516404   \n",
      "max     420.287741   238.044178   364.226709   245.850904   225.038318   \n",
      "\n",
      "               PC6          PC7          PC8          PC9         PC10  ...  \\\n",
      "count  5113.000000  5113.000000  5113.000000  5113.000000  5113.000000  ...   \n",
      "mean      0.223867     0.524407     0.778260    -0.667953     0.264249  ...   \n",
      "std      46.371636    41.488266    37.927638    34.548705    29.993790  ...   \n",
      "min    -286.576526  -182.739165  -172.291975  -189.862075   -92.575664  ...   \n",
      "25%     -23.718519   -24.125109   -22.630769   -18.713496   -19.297076  ...   \n",
      "50%       0.518100    -0.217497     0.438563     0.675480    -1.126980  ...   \n",
      "75%      25.457136    23.436347    23.718851    18.663654    19.211899  ...   \n",
      "max     243.527530   207.408428   231.755318   245.323644   201.215441  ...   \n",
      "\n",
      "           month_3      month_4      month_5      month_6      month_7  \\\n",
      "count  5113.000000  5113.000000  5113.000000  5113.000000  5113.000000   \n",
      "mean      0.084882     0.082144     0.084882     0.082144     0.084882   \n",
      "std       0.278733     0.274610     0.278733     0.274610     0.278733   \n",
      "min       0.000000     0.000000     0.000000     0.000000     0.000000   \n",
      "25%       0.000000     0.000000     0.000000     0.000000     0.000000   \n",
      "50%       0.000000     0.000000     0.000000     0.000000     0.000000   \n",
      "75%       0.000000     0.000000     0.000000     0.000000     0.000000   \n",
      "max       1.000000     1.000000     1.000000     1.000000     1.000000   \n",
      "\n",
      "           month_8      month_9     month_10     month_11     month_12  \n",
      "count  5113.000000  5113.000000  5113.000000  5113.000000  5113.000000  \n",
      "mean      0.084882     0.082144     0.084882     0.082144     0.084882  \n",
      "std       0.278733     0.274610     0.278733     0.274610     0.278733  \n",
      "min       0.000000     0.000000     0.000000     0.000000     0.000000  \n",
      "25%       0.000000     0.000000     0.000000     0.000000     0.000000  \n",
      "50%       0.000000     0.000000     0.000000     0.000000     0.000000  \n",
      "75%       0.000000     0.000000     0.000000     0.000000     0.000000  \n",
      "max       1.000000     1.000000     1.000000     1.000000     1.000000  \n",
      "\n",
      "[8 rows x 469 columns]\n"
     ]
    }
   ],
   "source": [
    "def display_descriptive_statistics(df):\n",
    "    # Display descriptive statistics for all columns\n",
    "    stats = df.describe(include='all')\n",
    "    print(\"Descriptive Statistics:\\n\", stats)\n",
    "\n",
    "# Show descriptive statistics\n",
    "display_descriptive_statistics(df_merged)\n"
   ]
  },
  {
   "cell_type": "markdown",
   "metadata": {},
   "source": [
    "## Some fun visualizations"
   ]
  },
  {
   "cell_type": "code",
   "execution_count": 6,
   "metadata": {},
   "outputs": [
    {
     "name": "stderr",
     "output_type": "stream",
     "text": [
      "C:\\Users\\ruben\\AppData\\Local\\Temp\\ipykernel_7932\\551165410.py:33: SettingWithCopyWarning:\n",
      "\n",
      "\n",
      "A value is trying to be set on a copy of a slice from a DataFrame\n",
      "\n",
      "See the caveats in the documentation: https://pandas.pydata.org/pandas-docs/stable/user_guide/indexing.html#returning-a-view-versus-a-copy\n",
      "\n"
     ]
    },
    {
     "name": "stdout",
     "output_type": "stream",
     "text": [
      "Summary Statistics:\n",
      "count    5.113000e+03\n",
      "mean     1.687746e+07\n",
      "std      7.869606e+06\n",
      "min      1.200000e+04\n",
      "25%      1.140420e+07\n",
      "50%      1.694640e+07\n",
      "75%      2.373480e+07\n",
      "max      3.134790e+07\n",
      "Name: ACME, dtype: float64\n",
      "\n",
      "Skewness: -0.17197499890810272\n",
      "Kurtosis: -0.9816462532177823\n"
     ]
    },
    {
     "data": {
      "image/png": "[encoded data removed]",
      "text/plain": [
       "<Figure size 800x600 with 1 Axes>"
      ]
     },
     "metadata": {},
     "output_type": "display_data"
    },
    {
     "data": {
      "image/png": "[encoded data removed]",
      "text/plain": [
       "<Figure size 800x600 with 1 Axes>"
      ]
     },
     "metadata": {},
     "output_type": "display_data"
    },
    {
     "data": {
      "image/png": "[encoded data removed]",
      "text/plain": [
       "<Figure size 800x600 with 1 Axes>"
      ]
     },
     "metadata": {},
     "output_type": "display_data"
    }
   ],
   "source": [
    "# Merge with additional dataset on 'Date' column\n",
    "df_merged = load_and_merge_datasets(\"solar_dataset.csv\", \"additional_variables.csv\", False)\n",
    "\n",
    "# Summary Statistics\n",
    "summary_stats = df_merged[\"ACME\"].describe()\n",
    "print(\"Summary Statistics:\")\n",
    "print(summary_stats)\n",
    "\n",
    "# Skewness and Kurtosis\n",
    "skewness = df_merged[\"ACME\"].skew()\n",
    "kurtosis = df_merged[\"ACME\"].kurt()\n",
    "print(f\"\\nSkewness: {skewness}\")\n",
    "print(f\"Kurtosis: {kurtosis}\")\n",
    "\n",
    "# Visualizing the Distribution - Histogram\n",
    "plt.figure(figsize=(8, 6))\n",
    "sns.histplot(df_merged[\"ACME\"], kde=True, bins=30)\n",
    "plt.title(f'Histogram of {\"ACME\"}')\n",
    "plt.show()\n",
    "\n",
    "# Visualizing the Distribution - Boxplot\n",
    "plt.figure(figsize=(8, 6))\n",
    "sns.boxplot(x=df_merged[\"ACME\"])\n",
    "plt.title(f'Boxplot of {\"ACME\"}')\n",
    "plt.show()\n",
    "\n",
    "# Q-Q Plot (Quantile-Quantile Plot)\n",
    "plt.figure(figsize=(8, 6))\n",
    "stats.probplot(df_merged[\"ACME\"], dist=\"norm\", plot=plt)\n",
    "plt.title(f'Q-Q Plot of {\"ACME\"}')\n",
    "plt.show()\n"
   ]
  },
  {
   "cell_type": "markdown",
   "metadata": {},
   "source": [
    "## Correlation with 'ACME'"
   ]
  },
  {
   "cell_type": "code",
   "execution_count": 37,
   "metadata": {},
   "outputs": [
    {
     "data": {
      "text/html": [
       "<div>\n",
       "<style scoped>\n",
       "    .dataframe tbody tr th:only-of-type {\n",
       "        vertical-align: middle;\n",
       "    }\n",
       "\n",
       "    .dataframe tbody tr th {\n",
       "        vertical-align: top;\n",
       "    }\n",
       "\n",
       "    .dataframe thead th {\n",
       "        text-align: right;\n",
       "    }\n",
       "</style>\n",
       "<table border=\"1\" class=\"dataframe\">\n",
       "  <thead>\n",
       "    <tr style=\"text-align: right;\">\n",
       "      <th></th>\n",
       "      <th>ACME</th>\n",
       "    </tr>\n",
       "  </thead>\n",
       "  <tbody>\n",
       "    <tr>\n",
       "      <th>PC1</th>\n",
       "      <td>0.633832</td>\n",
       "    </tr>\n",
       "    <tr>\n",
       "      <th>PC2</th>\n",
       "      <td>0.530797</td>\n",
       "    </tr>\n",
       "    <tr>\n",
       "      <th>month_7</th>\n",
       "      <td>0.315396</td>\n",
       "    </tr>\n",
       "    <tr>\n",
       "      <th>month_12</th>\n",
       "      <td>0.308908</td>\n",
       "    </tr>\n",
       "    <tr>\n",
       "      <th>V7130</th>\n",
       "      <td>0.260093</td>\n",
       "    </tr>\n",
       "    <tr>\n",
       "      <th>V1353</th>\n",
       "      <td>0.259628</td>\n",
       "    </tr>\n",
       "    <tr>\n",
       "      <th>month_6</th>\n",
       "      <td>0.259423</td>\n",
       "    </tr>\n",
       "    <tr>\n",
       "      <th>V1081</th>\n",
       "      <td>0.257398</td>\n",
       "    </tr>\n",
       "    <tr>\n",
       "      <th>V4233</th>\n",
       "      <td>0.255635</td>\n",
       "    </tr>\n",
       "    <tr>\n",
       "      <th>V2810</th>\n",
       "      <td>0.254904</td>\n",
       "    </tr>\n",
       "    <tr>\n",
       "      <th>V3530</th>\n",
       "      <td>0.254497</td>\n",
       "    </tr>\n",
       "    <tr>\n",
       "      <th>V1370</th>\n",
       "      <td>0.254431</td>\n",
       "    </tr>\n",
       "    <tr>\n",
       "      <th>V7834</th>\n",
       "      <td>0.254135</td>\n",
       "    </tr>\n",
       "    <tr>\n",
       "      <th>V634</th>\n",
       "      <td>0.253728</td>\n",
       "    </tr>\n",
       "    <tr>\n",
       "      <th>V345</th>\n",
       "      <td>0.253671</td>\n",
       "    </tr>\n",
       "    <tr>\n",
       "      <th>V7850</th>\n",
       "      <td>0.252636</td>\n",
       "    </tr>\n",
       "    <tr>\n",
       "      <th>month_11</th>\n",
       "      <td>0.252496</td>\n",
       "    </tr>\n",
       "    <tr>\n",
       "      <th>V2794</th>\n",
       "      <td>0.251859</td>\n",
       "    </tr>\n",
       "    <tr>\n",
       "      <th>V6121</th>\n",
       "      <td>0.251232</td>\n",
       "    </tr>\n",
       "    <tr>\n",
       "      <th>V4250</th>\n",
       "      <td>0.250641</td>\n",
       "    </tr>\n",
       "  </tbody>\n",
       "</table>\n",
       "</div>"
      ],
      "text/plain": [
       "              ACME\n",
       "PC1       0.633832\n",
       "PC2       0.530797\n",
       "month_7   0.315396\n",
       "month_12  0.308908\n",
       "V7130     0.260093\n",
       "V1353     0.259628\n",
       "month_6   0.259423\n",
       "V1081     0.257398\n",
       "V4233     0.255635\n",
       "V2810     0.254904\n",
       "V3530     0.254497\n",
       "V1370     0.254431\n",
       "V7834     0.254135\n",
       "V634      0.253728\n",
       "V345      0.253671\n",
       "V7850     0.252636\n",
       "month_11  0.252496\n",
       "V2794     0.251859\n",
       "V6121     0.251232\n",
       "V4250     0.250641"
      ]
     },
     "execution_count": 37,
     "metadata": {},
     "output_type": "execute_result"
    }
   ],
   "source": [
    "def compute_acme_correlations(df, colname):\n",
    "    # Compute correlation matrix and extract correlation with 'ACME'\n",
    "    correlation_matrix = df.corr()\n",
    "\n",
    "    acme_correlation = correlation_matrix[colname].drop(colname)\n",
    "\n",
    "    acme_correlation = acme_correlation.abs()\n",
    "    # Sort the correlation values\n",
    "    acme_correlation_sorted = pd.DataFrame(acme_correlation.sort_values(ascending=False))\n",
    "    \n",
    "    return acme_correlation_sorted\n",
    "\"\"\"\n",
    "# Calculate and display correlation of all features with 'ACME'\n",
    "for columni in [\"ACME\", \"NINN\", \"CHIC\", \"APAC\", \"KETC\"]:\n",
    "    acme_correlations = compute_acme_correlations(df_merged, columni)\n",
    "    print(f\"{columni} Correlations:\\n\", acme_correlations[acme_correlations[columni] > 0.05])\n",
    "\"\"\"\n",
    "compute_acme_correlations(df_merged, \"ACME\").head(20)"
   ]
  },
  {
   "cell_type": "code",
   "execution_count": 8,
   "metadata": {},
   "outputs": [
    {
     "data": {
      "text/html": [
       "<div>\n",
       "<style scoped>\n",
       "    .dataframe tbody tr th:only-of-type {\n",
       "        vertical-align: middle;\n",
       "    }\n",
       "\n",
       "    .dataframe tbody tr th {\n",
       "        vertical-align: top;\n",
       "    }\n",
       "\n",
       "    .dataframe thead th {\n",
       "        text-align: right;\n",
       "    }\n",
       "</style>\n",
       "<table border=\"1\" class=\"dataframe\">\n",
       "  <thead>\n",
       "    <tr style=\"text-align: right;\">\n",
       "      <th></th>\n",
       "      <th>V6409</th>\n",
       "      <th>V3529</th>\n",
       "      <th>V649</th>\n",
       "      <th>V7129</th>\n",
       "      <th>V2089</th>\n",
       "      <th>V1369</th>\n",
       "      <th>V4969</th>\n",
       "      <th>V5689</th>\n",
       "      <th>V7849</th>\n",
       "      <th>V2809</th>\n",
       "      <th>...</th>\n",
       "      <th>V2073</th>\n",
       "      <th>V1785</th>\n",
       "      <th>V1817</th>\n",
       "      <th>V377</th>\n",
       "      <th>V2504</th>\n",
       "      <th>V6137</th>\n",
       "      <th>V6825</th>\n",
       "      <th>V2074</th>\n",
       "      <th>V4697</th>\n",
       "      <th>V3977</th>\n",
       "    </tr>\n",
       "  </thead>\n",
       "  <tbody>\n",
       "    <tr>\n",
       "      <th>V6409</th>\n",
       "      <td>1.000000</td>\n",
       "      <td>0.755204</td>\n",
       "      <td>0.819707</td>\n",
       "      <td>0.752165</td>\n",
       "      <td>0.725470</td>\n",
       "      <td>0.796094</td>\n",
       "      <td>0.699568</td>\n",
       "      <td>0.732923</td>\n",
       "      <td>0.720141</td>\n",
       "      <td>0.756421</td>\n",
       "      <td>...</td>\n",
       "      <td>0.592955</td>\n",
       "      <td>0.413090</td>\n",
       "      <td>0.380151</td>\n",
       "      <td>0.420271</td>\n",
       "      <td>0.493660</td>\n",
       "      <td>0.425499</td>\n",
       "      <td>0.378745</td>\n",
       "      <td>0.408353</td>\n",
       "      <td>0.394481</td>\n",
       "      <td>0.382826</td>\n",
       "    </tr>\n",
       "    <tr>\n",
       "      <th>V3529</th>\n",
       "      <td>0.755204</td>\n",
       "      <td>1.000000</td>\n",
       "      <td>0.846279</td>\n",
       "      <td>0.790934</td>\n",
       "      <td>0.781853</td>\n",
       "      <td>0.772273</td>\n",
       "      <td>0.735592</td>\n",
       "      <td>0.743775</td>\n",
       "      <td>0.815807</td>\n",
       "      <td>0.810873</td>\n",
       "      <td>...</td>\n",
       "      <td>0.608191</td>\n",
       "      <td>0.413495</td>\n",
       "      <td>0.350274</td>\n",
       "      <td>0.382128</td>\n",
       "      <td>0.530849</td>\n",
       "      <td>0.379864</td>\n",
       "      <td>0.411366</td>\n",
       "      <td>0.448861</td>\n",
       "      <td>0.372586</td>\n",
       "      <td>0.339429</td>\n",
       "    </tr>\n",
       "    <tr>\n",
       "      <th>V649</th>\n",
       "      <td>0.819707</td>\n",
       "      <td>0.846279</td>\n",
       "      <td>1.000000</td>\n",
       "      <td>0.843139</td>\n",
       "      <td>0.836699</td>\n",
       "      <td>0.858592</td>\n",
       "      <td>0.793439</td>\n",
       "      <td>0.844597</td>\n",
       "      <td>0.872865</td>\n",
       "      <td>0.856664</td>\n",
       "      <td>...</td>\n",
       "      <td>0.633817</td>\n",
       "      <td>0.405024</td>\n",
       "      <td>0.365741</td>\n",
       "      <td>0.366949</td>\n",
       "      <td>0.523542</td>\n",
       "      <td>0.383867</td>\n",
       "      <td>0.368117</td>\n",
       "      <td>0.421504</td>\n",
       "      <td>0.368401</td>\n",
       "      <td>0.333080</td>\n",
       "    </tr>\n",
       "    <tr>\n",
       "      <th>V7129</th>\n",
       "      <td>0.752165</td>\n",
       "      <td>0.790934</td>\n",
       "      <td>0.843139</td>\n",
       "      <td>1.000000</td>\n",
       "      <td>0.763225</td>\n",
       "      <td>0.792360</td>\n",
       "      <td>0.710430</td>\n",
       "      <td>0.726596</td>\n",
       "      <td>0.770377</td>\n",
       "      <td>0.797638</td>\n",
       "      <td>...</td>\n",
       "      <td>0.574302</td>\n",
       "      <td>0.402578</td>\n",
       "      <td>0.332197</td>\n",
       "      <td>0.358180</td>\n",
       "      <td>0.512798</td>\n",
       "      <td>0.346724</td>\n",
       "      <td>0.393571</td>\n",
       "      <td>0.411557</td>\n",
       "      <td>0.343552</td>\n",
       "      <td>0.335375</td>\n",
       "    </tr>\n",
       "    <tr>\n",
       "      <th>V2089</th>\n",
       "      <td>0.725470</td>\n",
       "      <td>0.781853</td>\n",
       "      <td>0.836699</td>\n",
       "      <td>0.763225</td>\n",
       "      <td>1.000000</td>\n",
       "      <td>0.741442</td>\n",
       "      <td>0.758433</td>\n",
       "      <td>0.789838</td>\n",
       "      <td>0.776832</td>\n",
       "      <td>0.770188</td>\n",
       "      <td>...</td>\n",
       "      <td>0.657357</td>\n",
       "      <td>0.405058</td>\n",
       "      <td>0.406562</td>\n",
       "      <td>0.406843</td>\n",
       "      <td>0.506835</td>\n",
       "      <td>0.420333</td>\n",
       "      <td>0.391139</td>\n",
       "      <td>0.421686</td>\n",
       "      <td>0.390946</td>\n",
       "      <td>0.362751</td>\n",
       "    </tr>\n",
       "    <tr>\n",
       "      <th>...</th>\n",
       "      <td>...</td>\n",
       "      <td>...</td>\n",
       "      <td>...</td>\n",
       "      <td>...</td>\n",
       "      <td>...</td>\n",
       "      <td>...</td>\n",
       "      <td>...</td>\n",
       "      <td>...</td>\n",
       "      <td>...</td>\n",
       "      <td>...</td>\n",
       "      <td>...</td>\n",
       "      <td>...</td>\n",
       "      <td>...</td>\n",
       "      <td>...</td>\n",
       "      <td>...</td>\n",
       "      <td>...</td>\n",
       "      <td>...</td>\n",
       "      <td>...</td>\n",
       "      <td>...</td>\n",
       "      <td>...</td>\n",
       "      <td>...</td>\n",
       "    </tr>\n",
       "    <tr>\n",
       "      <th>V6137</th>\n",
       "      <td>0.425499</td>\n",
       "      <td>0.379864</td>\n",
       "      <td>0.383867</td>\n",
       "      <td>0.346724</td>\n",
       "      <td>0.420333</td>\n",
       "      <td>0.375338</td>\n",
       "      <td>0.391702</td>\n",
       "      <td>0.385466</td>\n",
       "      <td>0.380886</td>\n",
       "      <td>0.380543</td>\n",
       "      <td>...</td>\n",
       "      <td>0.316592</td>\n",
       "      <td>0.423924</td>\n",
       "      <td>0.862947</td>\n",
       "      <td>0.862930</td>\n",
       "      <td>0.368762</td>\n",
       "      <td>1.000000</td>\n",
       "      <td>0.408099</td>\n",
       "      <td>0.309776</td>\n",
       "      <td>0.784527</td>\n",
       "      <td>0.821752</td>\n",
       "    </tr>\n",
       "    <tr>\n",
       "      <th>V6825</th>\n",
       "      <td>0.378745</td>\n",
       "      <td>0.411366</td>\n",
       "      <td>0.368117</td>\n",
       "      <td>0.393571</td>\n",
       "      <td>0.391139</td>\n",
       "      <td>0.405006</td>\n",
       "      <td>0.342676</td>\n",
       "      <td>0.374138</td>\n",
       "      <td>0.373090</td>\n",
       "      <td>0.345293</td>\n",
       "      <td>...</td>\n",
       "      <td>0.406205</td>\n",
       "      <td>0.799619</td>\n",
       "      <td>0.422640</td>\n",
       "      <td>0.459282</td>\n",
       "      <td>0.649451</td>\n",
       "      <td>0.408099</td>\n",
       "      <td>1.000000</td>\n",
       "      <td>0.505578</td>\n",
       "      <td>0.435421</td>\n",
       "      <td>0.449913</td>\n",
       "    </tr>\n",
       "    <tr>\n",
       "      <th>V2074</th>\n",
       "      <td>0.408353</td>\n",
       "      <td>0.448861</td>\n",
       "      <td>0.421504</td>\n",
       "      <td>0.411557</td>\n",
       "      <td>0.421686</td>\n",
       "      <td>0.412810</td>\n",
       "      <td>0.419231</td>\n",
       "      <td>0.371900</td>\n",
       "      <td>0.429881</td>\n",
       "      <td>0.413536</td>\n",
       "      <td>...</td>\n",
       "      <td>0.686625</td>\n",
       "      <td>0.534138</td>\n",
       "      <td>0.312998</td>\n",
       "      <td>0.305544</td>\n",
       "      <td>0.410182</td>\n",
       "      <td>0.309776</td>\n",
       "      <td>0.505578</td>\n",
       "      <td>1.000000</td>\n",
       "      <td>0.301823</td>\n",
       "      <td>0.294627</td>\n",
       "    </tr>\n",
       "    <tr>\n",
       "      <th>V4697</th>\n",
       "      <td>0.394481</td>\n",
       "      <td>0.372586</td>\n",
       "      <td>0.368401</td>\n",
       "      <td>0.343552</td>\n",
       "      <td>0.390946</td>\n",
       "      <td>0.344960</td>\n",
       "      <td>0.358465</td>\n",
       "      <td>0.335560</td>\n",
       "      <td>0.332457</td>\n",
       "      <td>0.340713</td>\n",
       "      <td>...</td>\n",
       "      <td>0.300731</td>\n",
       "      <td>0.427698</td>\n",
       "      <td>0.813490</td>\n",
       "      <td>0.858644</td>\n",
       "      <td>0.398836</td>\n",
       "      <td>0.784527</td>\n",
       "      <td>0.435421</td>\n",
       "      <td>0.301823</td>\n",
       "      <td>1.000000</td>\n",
       "      <td>0.810143</td>\n",
       "    </tr>\n",
       "    <tr>\n",
       "      <th>V3977</th>\n",
       "      <td>0.382826</td>\n",
       "      <td>0.339429</td>\n",
       "      <td>0.333080</td>\n",
       "      <td>0.335375</td>\n",
       "      <td>0.362751</td>\n",
       "      <td>0.353953</td>\n",
       "      <td>0.354103</td>\n",
       "      <td>0.311879</td>\n",
       "      <td>0.330409</td>\n",
       "      <td>0.333948</td>\n",
       "      <td>...</td>\n",
       "      <td>0.291320</td>\n",
       "      <td>0.450851</td>\n",
       "      <td>0.835181</td>\n",
       "      <td>0.871123</td>\n",
       "      <td>0.386468</td>\n",
       "      <td>0.821752</td>\n",
       "      <td>0.449913</td>\n",
       "      <td>0.294627</td>\n",
       "      <td>0.810143</td>\n",
       "      <td>1.000000</td>\n",
       "    </tr>\n",
       "  </tbody>\n",
       "</table>\n",
       "<p>100 rows × 100 columns</p>\n",
       "</div>"
      ],
      "text/plain": [
       "          V6409     V3529      V649     V7129     V2089     V1369     V4969  \\\n",
       "V6409  1.000000  0.755204  0.819707  0.752165  0.725470  0.796094  0.699568   \n",
       "V3529  0.755204  1.000000  0.846279  0.790934  0.781853  0.772273  0.735592   \n",
       "V649   0.819707  0.846279  1.000000  0.843139  0.836699  0.858592  0.793439   \n",
       "V7129  0.752165  0.790934  0.843139  1.000000  0.763225  0.792360  0.710430   \n",
       "V2089  0.725470  0.781853  0.836699  0.763225  1.000000  0.741442  0.758433   \n",
       "...         ...       ...       ...       ...       ...       ...       ...   \n",
       "V6137  0.425499  0.379864  0.383867  0.346724  0.420333  0.375338  0.391702   \n",
       "V6825  0.378745  0.411366  0.368117  0.393571  0.391139  0.405006  0.342676   \n",
       "V2074  0.408353  0.448861  0.421504  0.411557  0.421686  0.412810  0.419231   \n",
       "V4697  0.394481  0.372586  0.368401  0.343552  0.390946  0.344960  0.358465   \n",
       "V3977  0.382826  0.339429  0.333080  0.335375  0.362751  0.353953  0.354103   \n",
       "\n",
       "          V5689     V7849     V2809  ...     V2073     V1785     V1817  \\\n",
       "V6409  0.732923  0.720141  0.756421  ...  0.592955  0.413090  0.380151   \n",
       "V3529  0.743775  0.815807  0.810873  ...  0.608191  0.413495  0.350274   \n",
       "V649   0.844597  0.872865  0.856664  ...  0.633817  0.405024  0.365741   \n",
       "V7129  0.726596  0.770377  0.797638  ...  0.574302  0.402578  0.332197   \n",
       "V2089  0.789838  0.776832  0.770188  ...  0.657357  0.405058  0.406562   \n",
       "...         ...       ...       ...  ...       ...       ...       ...   \n",
       "V6137  0.385466  0.380886  0.380543  ...  0.316592  0.423924  0.862947   \n",
       "V6825  0.374138  0.373090  0.345293  ...  0.406205  0.799619  0.422640   \n",
       "V2074  0.371900  0.429881  0.413536  ...  0.686625  0.534138  0.312998   \n",
       "V4697  0.335560  0.332457  0.340713  ...  0.300731  0.427698  0.813490   \n",
       "V3977  0.311879  0.330409  0.333948  ...  0.291320  0.450851  0.835181   \n",
       "\n",
       "           V377     V2504     V6137     V6825     V2074     V4697     V3977  \n",
       "V6409  0.420271  0.493660  0.425499  0.378745  0.408353  0.394481  0.382826  \n",
       "V3529  0.382128  0.530849  0.379864  0.411366  0.448861  0.372586  0.339429  \n",
       "V649   0.366949  0.523542  0.383867  0.368117  0.421504  0.368401  0.333080  \n",
       "V7129  0.358180  0.512798  0.346724  0.393571  0.411557  0.343552  0.335375  \n",
       "V2089  0.406843  0.506835  0.420333  0.391139  0.421686  0.390946  0.362751  \n",
       "...         ...       ...       ...       ...       ...       ...       ...  \n",
       "V6137  0.862930  0.368762  1.000000  0.408099  0.309776  0.784527  0.821752  \n",
       "V6825  0.459282  0.649451  0.408099  1.000000  0.505578  0.435421  0.449913  \n",
       "V2074  0.305544  0.410182  0.309776  0.505578  1.000000  0.301823  0.294627  \n",
       "V4697  0.858644  0.398836  0.784527  0.435421  0.301823  1.000000  0.810143  \n",
       "V3977  0.871123  0.386468  0.821752  0.449913  0.294627  0.810143  1.000000  \n",
       "\n",
       "[100 rows x 100 columns]"
      ]
     },
     "execution_count": 8,
     "metadata": {},
     "output_type": "execute_result"
    }
   ],
   "source": [
    "df_merged[df_merged.filter(like='V').columns].corr()\n"
   ]
  },
  {
   "cell_type": "code",
   "execution_count": 9,
   "metadata": {},
   "outputs": [
    {
     "ename": "KeyboardInterrupt",
     "evalue": "",
     "output_type": "error",
     "traceback": [
      "\u001b[1;31m---------------------------------------------------------------------------\u001b[0m",
      "\u001b[1;31mKeyboardInterrupt\u001b[0m                         Traceback (most recent call last)",
      "Cell \u001b[1;32mIn[9], line 5\u001b[0m\n\u001b[0;32m      3\u001b[0m vif_data \u001b[38;5;241m=\u001b[39m pd\u001b[38;5;241m.\u001b[39mDataFrame()\n\u001b[0;32m      4\u001b[0m vif_data[\u001b[38;5;124m\"\u001b[39m\u001b[38;5;124mfeature\u001b[39m\u001b[38;5;124m\"\u001b[39m] \u001b[38;5;241m=\u001b[39m df_merged\u001b[38;5;241m.\u001b[39mcolumns\n\u001b[1;32m----> 5\u001b[0m vif_data[\u001b[38;5;124m\"\u001b[39m\u001b[38;5;124mVIF\u001b[39m\u001b[38;5;124m\"\u001b[39m] \u001b[38;5;241m=\u001b[39m [\u001b[43mvariance_inflation_factor\u001b[49m\u001b[43m(\u001b[49m\u001b[43mdf_merged\u001b[49m\u001b[38;5;241;43m.\u001b[39;49m\u001b[43mvalues\u001b[49m\u001b[43m,\u001b[49m\u001b[43m \u001b[49m\u001b[43mi\u001b[49m\u001b[43m)\u001b[49m \u001b[38;5;28;01mfor\u001b[39;00m i \u001b[38;5;129;01min\u001b[39;00m \u001b[38;5;28mrange\u001b[39m(df_merged\u001b[38;5;241m.\u001b[39mshape[\u001b[38;5;241m1\u001b[39m])]\n\u001b[0;32m      6\u001b[0m \u001b[38;5;28mprint\u001b[39m(vif_data)\n",
      "File \u001b[1;32mc:\\Users\\ruben\\anaconda3\\Lib\\site-packages\\statsmodels\\stats\\outliers_influence.py:196\u001b[0m, in \u001b[0;36mvariance_inflation_factor\u001b[1;34m(exog, exog_idx)\u001b[0m\n\u001b[0;32m    194\u001b[0m mask \u001b[38;5;241m=\u001b[39m np\u001b[38;5;241m.\u001b[39marange(k_vars) \u001b[38;5;241m!=\u001b[39m exog_idx\n\u001b[0;32m    195\u001b[0m x_noti \u001b[38;5;241m=\u001b[39m exog[:, mask]\n\u001b[1;32m--> 196\u001b[0m r_squared_i \u001b[38;5;241m=\u001b[39m \u001b[43mOLS\u001b[49m\u001b[43m(\u001b[49m\u001b[43mx_i\u001b[49m\u001b[43m,\u001b[49m\u001b[43m \u001b[49m\u001b[43mx_noti\u001b[49m\u001b[43m)\u001b[49m\u001b[38;5;241m.\u001b[39mfit()\u001b[38;5;241m.\u001b[39mrsquared\n\u001b[0;32m    197\u001b[0m vif \u001b[38;5;241m=\u001b[39m \u001b[38;5;241m1.\u001b[39m \u001b[38;5;241m/\u001b[39m (\u001b[38;5;241m1.\u001b[39m \u001b[38;5;241m-\u001b[39m r_squared_i)\n\u001b[0;32m    198\u001b[0m \u001b[38;5;28;01mreturn\u001b[39;00m vif\n",
      "File \u001b[1;32mc:\\Users\\ruben\\anaconda3\\Lib\\site-packages\\statsmodels\\regression\\linear_model.py:924\u001b[0m, in \u001b[0;36mOLS.__init__\u001b[1;34m(self, endog, exog, missing, hasconst, **kwargs)\u001b[0m\n\u001b[0;32m    921\u001b[0m     msg \u001b[38;5;241m=\u001b[39m (\u001b[38;5;124m\"\u001b[39m\u001b[38;5;124mWeights are not supported in OLS and will be ignored\u001b[39m\u001b[38;5;124m\"\u001b[39m\n\u001b[0;32m    922\u001b[0m            \u001b[38;5;124m\"\u001b[39m\u001b[38;5;124mAn exception will be raised in the next version.\u001b[39m\u001b[38;5;124m\"\u001b[39m)\n\u001b[0;32m    923\u001b[0m     warnings\u001b[38;5;241m.\u001b[39mwarn(msg, ValueWarning)\n\u001b[1;32m--> 924\u001b[0m \u001b[38;5;28;43msuper\u001b[39;49m\u001b[43m(\u001b[49m\u001b[43m)\u001b[49m\u001b[38;5;241;43m.\u001b[39;49m\u001b[38;5;21;43m__init__\u001b[39;49m\u001b[43m(\u001b[49m\u001b[43mendog\u001b[49m\u001b[43m,\u001b[49m\u001b[43m \u001b[49m\u001b[43mexog\u001b[49m\u001b[43m,\u001b[49m\u001b[43m \u001b[49m\u001b[43mmissing\u001b[49m\u001b[38;5;241;43m=\u001b[39;49m\u001b[43mmissing\u001b[49m\u001b[43m,\u001b[49m\n\u001b[0;32m    925\u001b[0m \u001b[43m                          \u001b[49m\u001b[43mhasconst\u001b[49m\u001b[38;5;241;43m=\u001b[39;49m\u001b[43mhasconst\u001b[49m\u001b[43m,\u001b[49m\u001b[43m \u001b[49m\u001b[38;5;241;43m*\u001b[39;49m\u001b[38;5;241;43m*\u001b[39;49m\u001b[43mkwargs\u001b[49m\u001b[43m)\u001b[49m\n\u001b[0;32m    926\u001b[0m \u001b[38;5;28;01mif\u001b[39;00m \u001b[38;5;124m\"\u001b[39m\u001b[38;5;124mweights\u001b[39m\u001b[38;5;124m\"\u001b[39m \u001b[38;5;129;01min\u001b[39;00m \u001b[38;5;28mself\u001b[39m\u001b[38;5;241m.\u001b[39m_init_keys:\n\u001b[0;32m    927\u001b[0m     \u001b[38;5;28mself\u001b[39m\u001b[38;5;241m.\u001b[39m_init_keys\u001b[38;5;241m.\u001b[39mremove(\u001b[38;5;124m\"\u001b[39m\u001b[38;5;124mweights\u001b[39m\u001b[38;5;124m\"\u001b[39m)\n",
      "File \u001b[1;32mc:\\Users\\ruben\\anaconda3\\Lib\\site-packages\\statsmodels\\regression\\linear_model.py:749\u001b[0m, in \u001b[0;36mWLS.__init__\u001b[1;34m(self, endog, exog, weights, missing, hasconst, **kwargs)\u001b[0m\n\u001b[0;32m    747\u001b[0m \u001b[38;5;28;01melse\u001b[39;00m:\n\u001b[0;32m    748\u001b[0m     weights \u001b[38;5;241m=\u001b[39m weights\u001b[38;5;241m.\u001b[39msqueeze()\n\u001b[1;32m--> 749\u001b[0m \u001b[38;5;28;43msuper\u001b[39;49m\u001b[43m(\u001b[49m\u001b[43m)\u001b[49m\u001b[38;5;241;43m.\u001b[39;49m\u001b[38;5;21;43m__init__\u001b[39;49m\u001b[43m(\u001b[49m\u001b[43mendog\u001b[49m\u001b[43m,\u001b[49m\u001b[43m \u001b[49m\u001b[43mexog\u001b[49m\u001b[43m,\u001b[49m\u001b[43m \u001b[49m\u001b[43mmissing\u001b[49m\u001b[38;5;241;43m=\u001b[39;49m\u001b[43mmissing\u001b[49m\u001b[43m,\u001b[49m\n\u001b[0;32m    750\u001b[0m \u001b[43m                          \u001b[49m\u001b[43mweights\u001b[49m\u001b[38;5;241;43m=\u001b[39;49m\u001b[43mweights\u001b[49m\u001b[43m,\u001b[49m\u001b[43m \u001b[49m\u001b[43mhasconst\u001b[49m\u001b[38;5;241;43m=\u001b[39;49m\u001b[43mhasconst\u001b[49m\u001b[43m,\u001b[49m\u001b[43m \u001b[49m\u001b[38;5;241;43m*\u001b[39;49m\u001b[38;5;241;43m*\u001b[39;49m\u001b[43mkwargs\u001b[49m\u001b[43m)\u001b[49m\n\u001b[0;32m    751\u001b[0m nobs \u001b[38;5;241m=\u001b[39m \u001b[38;5;28mself\u001b[39m\u001b[38;5;241m.\u001b[39mexog\u001b[38;5;241m.\u001b[39mshape[\u001b[38;5;241m0\u001b[39m]\n\u001b[0;32m    752\u001b[0m weights \u001b[38;5;241m=\u001b[39m \u001b[38;5;28mself\u001b[39m\u001b[38;5;241m.\u001b[39mweights\n",
      "File \u001b[1;32mc:\\Users\\ruben\\anaconda3\\Lib\\site-packages\\statsmodels\\regression\\linear_model.py:203\u001b[0m, in \u001b[0;36mRegressionModel.__init__\u001b[1;34m(self, endog, exog, **kwargs)\u001b[0m\n\u001b[0;32m    202\u001b[0m \u001b[38;5;28;01mdef\u001b[39;00m \u001b[38;5;21m__init__\u001b[39m(\u001b[38;5;28mself\u001b[39m, endog, exog, \u001b[38;5;241m*\u001b[39m\u001b[38;5;241m*\u001b[39mkwargs):\n\u001b[1;32m--> 203\u001b[0m     \u001b[38;5;28;43msuper\u001b[39;49m\u001b[43m(\u001b[49m\u001b[43m)\u001b[49m\u001b[38;5;241;43m.\u001b[39;49m\u001b[38;5;21;43m__init__\u001b[39;49m\u001b[43m(\u001b[49m\u001b[43mendog\u001b[49m\u001b[43m,\u001b[49m\u001b[43m \u001b[49m\u001b[43mexog\u001b[49m\u001b[43m,\u001b[49m\u001b[43m \u001b[49m\u001b[38;5;241;43m*\u001b[39;49m\u001b[38;5;241;43m*\u001b[39;49m\u001b[43mkwargs\u001b[49m\u001b[43m)\u001b[49m\n\u001b[0;32m    204\u001b[0m     \u001b[38;5;28mself\u001b[39m\u001b[38;5;241m.\u001b[39mpinv_wexog: Float64Array \u001b[38;5;241m|\u001b[39m \u001b[38;5;28;01mNone\u001b[39;00m \u001b[38;5;241m=\u001b[39m \u001b[38;5;28;01mNone\u001b[39;00m\n\u001b[0;32m    205\u001b[0m     \u001b[38;5;28mself\u001b[39m\u001b[38;5;241m.\u001b[39m_data_attr\u001b[38;5;241m.\u001b[39mextend([\u001b[38;5;124m'\u001b[39m\u001b[38;5;124mpinv_wexog\u001b[39m\u001b[38;5;124m'\u001b[39m, \u001b[38;5;124m'\u001b[39m\u001b[38;5;124mwendog\u001b[39m\u001b[38;5;124m'\u001b[39m, \u001b[38;5;124m'\u001b[39m\u001b[38;5;124mwexog\u001b[39m\u001b[38;5;124m'\u001b[39m, \u001b[38;5;124m'\u001b[39m\u001b[38;5;124mweights\u001b[39m\u001b[38;5;124m'\u001b[39m])\n",
      "File \u001b[1;32mc:\\Users\\ruben\\anaconda3\\Lib\\site-packages\\statsmodels\\base\\model.py:270\u001b[0m, in \u001b[0;36mLikelihoodModel.__init__\u001b[1;34m(self, endog, exog, **kwargs)\u001b[0m\n\u001b[0;32m    269\u001b[0m \u001b[38;5;28;01mdef\u001b[39;00m \u001b[38;5;21m__init__\u001b[39m(\u001b[38;5;28mself\u001b[39m, endog, exog\u001b[38;5;241m=\u001b[39m\u001b[38;5;28;01mNone\u001b[39;00m, \u001b[38;5;241m*\u001b[39m\u001b[38;5;241m*\u001b[39mkwargs):\n\u001b[1;32m--> 270\u001b[0m     \u001b[38;5;28;43msuper\u001b[39;49m\u001b[43m(\u001b[49m\u001b[43m)\u001b[49m\u001b[38;5;241;43m.\u001b[39;49m\u001b[38;5;21;43m__init__\u001b[39;49m\u001b[43m(\u001b[49m\u001b[43mendog\u001b[49m\u001b[43m,\u001b[49m\u001b[43m \u001b[49m\u001b[43mexog\u001b[49m\u001b[43m,\u001b[49m\u001b[43m \u001b[49m\u001b[38;5;241;43m*\u001b[39;49m\u001b[38;5;241;43m*\u001b[39;49m\u001b[43mkwargs\u001b[49m\u001b[43m)\u001b[49m\n\u001b[0;32m    271\u001b[0m     \u001b[38;5;28mself\u001b[39m\u001b[38;5;241m.\u001b[39minitialize()\n",
      "File \u001b[1;32mc:\\Users\\ruben\\anaconda3\\Lib\\site-packages\\statsmodels\\base\\model.py:95\u001b[0m, in \u001b[0;36mModel.__init__\u001b[1;34m(self, endog, exog, **kwargs)\u001b[0m\n\u001b[0;32m     93\u001b[0m missing \u001b[38;5;241m=\u001b[39m kwargs\u001b[38;5;241m.\u001b[39mpop(\u001b[38;5;124m'\u001b[39m\u001b[38;5;124mmissing\u001b[39m\u001b[38;5;124m'\u001b[39m, \u001b[38;5;124m'\u001b[39m\u001b[38;5;124mnone\u001b[39m\u001b[38;5;124m'\u001b[39m)\n\u001b[0;32m     94\u001b[0m hasconst \u001b[38;5;241m=\u001b[39m kwargs\u001b[38;5;241m.\u001b[39mpop(\u001b[38;5;124m'\u001b[39m\u001b[38;5;124mhasconst\u001b[39m\u001b[38;5;124m'\u001b[39m, \u001b[38;5;28;01mNone\u001b[39;00m)\n\u001b[1;32m---> 95\u001b[0m \u001b[38;5;28mself\u001b[39m\u001b[38;5;241m.\u001b[39mdata \u001b[38;5;241m=\u001b[39m \u001b[38;5;28;43mself\u001b[39;49m\u001b[38;5;241;43m.\u001b[39;49m\u001b[43m_handle_data\u001b[49m\u001b[43m(\u001b[49m\u001b[43mendog\u001b[49m\u001b[43m,\u001b[49m\u001b[43m \u001b[49m\u001b[43mexog\u001b[49m\u001b[43m,\u001b[49m\u001b[43m \u001b[49m\u001b[43mmissing\u001b[49m\u001b[43m,\u001b[49m\u001b[43m \u001b[49m\u001b[43mhasconst\u001b[49m\u001b[43m,\u001b[49m\n\u001b[0;32m     96\u001b[0m \u001b[43m                              \u001b[49m\u001b[38;5;241;43m*\u001b[39;49m\u001b[38;5;241;43m*\u001b[39;49m\u001b[43mkwargs\u001b[49m\u001b[43m)\u001b[49m\n\u001b[0;32m     97\u001b[0m \u001b[38;5;28mself\u001b[39m\u001b[38;5;241m.\u001b[39mk_constant \u001b[38;5;241m=\u001b[39m \u001b[38;5;28mself\u001b[39m\u001b[38;5;241m.\u001b[39mdata\u001b[38;5;241m.\u001b[39mk_constant\n\u001b[0;32m     98\u001b[0m \u001b[38;5;28mself\u001b[39m\u001b[38;5;241m.\u001b[39mexog \u001b[38;5;241m=\u001b[39m \u001b[38;5;28mself\u001b[39m\u001b[38;5;241m.\u001b[39mdata\u001b[38;5;241m.\u001b[39mexog\n",
      "File \u001b[1;32mc:\\Users\\ruben\\anaconda3\\Lib\\site-packages\\statsmodels\\base\\model.py:135\u001b[0m, in \u001b[0;36mModel._handle_data\u001b[1;34m(self, endog, exog, missing, hasconst, **kwargs)\u001b[0m\n\u001b[0;32m    134\u001b[0m \u001b[38;5;28;01mdef\u001b[39;00m \u001b[38;5;21m_handle_data\u001b[39m(\u001b[38;5;28mself\u001b[39m, endog, exog, missing, hasconst, \u001b[38;5;241m*\u001b[39m\u001b[38;5;241m*\u001b[39mkwargs):\n\u001b[1;32m--> 135\u001b[0m     data \u001b[38;5;241m=\u001b[39m \u001b[43mhandle_data\u001b[49m\u001b[43m(\u001b[49m\u001b[43mendog\u001b[49m\u001b[43m,\u001b[49m\u001b[43m \u001b[49m\u001b[43mexog\u001b[49m\u001b[43m,\u001b[49m\u001b[43m \u001b[49m\u001b[43mmissing\u001b[49m\u001b[43m,\u001b[49m\u001b[43m \u001b[49m\u001b[43mhasconst\u001b[49m\u001b[43m,\u001b[49m\u001b[43m \u001b[49m\u001b[38;5;241;43m*\u001b[39;49m\u001b[38;5;241;43m*\u001b[39;49m\u001b[43mkwargs\u001b[49m\u001b[43m)\u001b[49m\n\u001b[0;32m    136\u001b[0m     \u001b[38;5;66;03m# kwargs arrays could have changed, easier to just attach here\u001b[39;00m\n\u001b[0;32m    137\u001b[0m     \u001b[38;5;28;01mfor\u001b[39;00m key \u001b[38;5;129;01min\u001b[39;00m kwargs:\n",
      "File \u001b[1;32mc:\\Users\\ruben\\anaconda3\\Lib\\site-packages\\statsmodels\\base\\data.py:675\u001b[0m, in \u001b[0;36mhandle_data\u001b[1;34m(endog, exog, missing, hasconst, **kwargs)\u001b[0m\n\u001b[0;32m    672\u001b[0m     exog \u001b[38;5;241m=\u001b[39m np\u001b[38;5;241m.\u001b[39masarray(exog)\n\u001b[0;32m    674\u001b[0m klass \u001b[38;5;241m=\u001b[39m handle_data_class_factory(endog, exog)\n\u001b[1;32m--> 675\u001b[0m \u001b[38;5;28;01mreturn\u001b[39;00m \u001b[43mklass\u001b[49m\u001b[43m(\u001b[49m\u001b[43mendog\u001b[49m\u001b[43m,\u001b[49m\u001b[43m \u001b[49m\u001b[43mexog\u001b[49m\u001b[38;5;241;43m=\u001b[39;49m\u001b[43mexog\u001b[49m\u001b[43m,\u001b[49m\u001b[43m \u001b[49m\u001b[43mmissing\u001b[49m\u001b[38;5;241;43m=\u001b[39;49m\u001b[43mmissing\u001b[49m\u001b[43m,\u001b[49m\u001b[43m \u001b[49m\u001b[43mhasconst\u001b[49m\u001b[38;5;241;43m=\u001b[39;49m\u001b[43mhasconst\u001b[49m\u001b[43m,\u001b[49m\n\u001b[0;32m    676\u001b[0m \u001b[43m             \u001b[49m\u001b[38;5;241;43m*\u001b[39;49m\u001b[38;5;241;43m*\u001b[39;49m\u001b[43mkwargs\u001b[49m\u001b[43m)\u001b[49m\n",
      "File \u001b[1;32mc:\\Users\\ruben\\anaconda3\\Lib\\site-packages\\statsmodels\\base\\data.py:88\u001b[0m, in \u001b[0;36mModelData.__init__\u001b[1;34m(self, endog, exog, missing, hasconst, **kwargs)\u001b[0m\n\u001b[0;32m     86\u001b[0m \u001b[38;5;28mself\u001b[39m\u001b[38;5;241m.\u001b[39mconst_idx \u001b[38;5;241m=\u001b[39m \u001b[38;5;28;01mNone\u001b[39;00m\n\u001b[0;32m     87\u001b[0m \u001b[38;5;28mself\u001b[39m\u001b[38;5;241m.\u001b[39mk_constant \u001b[38;5;241m=\u001b[39m \u001b[38;5;241m0\u001b[39m\n\u001b[1;32m---> 88\u001b[0m \u001b[38;5;28;43mself\u001b[39;49m\u001b[38;5;241;43m.\u001b[39;49m\u001b[43m_handle_constant\u001b[49m\u001b[43m(\u001b[49m\u001b[43mhasconst\u001b[49m\u001b[43m)\u001b[49m\n\u001b[0;32m     89\u001b[0m \u001b[38;5;28mself\u001b[39m\u001b[38;5;241m.\u001b[39m_check_integrity()\n\u001b[0;32m     90\u001b[0m \u001b[38;5;28mself\u001b[39m\u001b[38;5;241m.\u001b[39m_cache \u001b[38;5;241m=\u001b[39m {}\n",
      "File \u001b[1;32mc:\\Users\\ruben\\anaconda3\\Lib\\site-packages\\statsmodels\\base\\data.py:177\u001b[0m, in \u001b[0;36mModelData._handle_constant\u001b[1;34m(self, hasconst)\u001b[0m\n\u001b[0;32m    172\u001b[0m \u001b[38;5;28;01mif\u001b[39;00m check_implicit \u001b[38;5;129;01mand\u001b[39;00m \u001b[38;5;129;01mnot\u001b[39;00m hasconst:\n\u001b[0;32m    173\u001b[0m     \u001b[38;5;66;03m# look for implicit constant\u001b[39;00m\n\u001b[0;32m    174\u001b[0m     \u001b[38;5;66;03m# Compute rank of augmented matrix\u001b[39;00m\n\u001b[0;32m    175\u001b[0m     augmented_exog \u001b[38;5;241m=\u001b[39m np\u001b[38;5;241m.\u001b[39mcolumn_stack(\n\u001b[0;32m    176\u001b[0m                 (np\u001b[38;5;241m.\u001b[39mones(\u001b[38;5;28mself\u001b[39m\u001b[38;5;241m.\u001b[39mexog\u001b[38;5;241m.\u001b[39mshape[\u001b[38;5;241m0\u001b[39m]), \u001b[38;5;28mself\u001b[39m\u001b[38;5;241m.\u001b[39mexog))\n\u001b[1;32m--> 177\u001b[0m     rank_augm \u001b[38;5;241m=\u001b[39m \u001b[43mnp\u001b[49m\u001b[38;5;241;43m.\u001b[39;49m\u001b[43mlinalg\u001b[49m\u001b[38;5;241;43m.\u001b[39;49m\u001b[43mmatrix_rank\u001b[49m\u001b[43m(\u001b[49m\u001b[43maugmented_exog\u001b[49m\u001b[43m)\u001b[49m\n\u001b[0;32m    178\u001b[0m     rank_orig \u001b[38;5;241m=\u001b[39m np\u001b[38;5;241m.\u001b[39mlinalg\u001b[38;5;241m.\u001b[39mmatrix_rank(\u001b[38;5;28mself\u001b[39m\u001b[38;5;241m.\u001b[39mexog)\n\u001b[0;32m    179\u001b[0m     \u001b[38;5;28mself\u001b[39m\u001b[38;5;241m.\u001b[39mk_constant \u001b[38;5;241m=\u001b[39m \u001b[38;5;28mint\u001b[39m(rank_orig \u001b[38;5;241m==\u001b[39m rank_augm)\n",
      "File \u001b[1;32mc:\\Users\\ruben\\anaconda3\\Lib\\site-packages\\numpy\\linalg\\linalg.py:1922\u001b[0m, in \u001b[0;36mmatrix_rank\u001b[1;34m(A, tol, hermitian)\u001b[0m\n\u001b[0;32m   1920\u001b[0m \u001b[38;5;28;01mif\u001b[39;00m A\u001b[38;5;241m.\u001b[39mndim \u001b[38;5;241m<\u001b[39m \u001b[38;5;241m2\u001b[39m:\n\u001b[0;32m   1921\u001b[0m     \u001b[38;5;28;01mreturn\u001b[39;00m \u001b[38;5;28mint\u001b[39m(\u001b[38;5;129;01mnot\u001b[39;00m \u001b[38;5;28mall\u001b[39m(A\u001b[38;5;241m==\u001b[39m\u001b[38;5;241m0\u001b[39m))\n\u001b[1;32m-> 1922\u001b[0m S \u001b[38;5;241m=\u001b[39m \u001b[43msvd\u001b[49m\u001b[43m(\u001b[49m\u001b[43mA\u001b[49m\u001b[43m,\u001b[49m\u001b[43m \u001b[49m\u001b[43mcompute_uv\u001b[49m\u001b[38;5;241;43m=\u001b[39;49m\u001b[38;5;28;43;01mFalse\u001b[39;49;00m\u001b[43m,\u001b[49m\u001b[43m \u001b[49m\u001b[43mhermitian\u001b[49m\u001b[38;5;241;43m=\u001b[39;49m\u001b[43mhermitian\u001b[49m\u001b[43m)\u001b[49m\n\u001b[0;32m   1923\u001b[0m \u001b[38;5;28;01mif\u001b[39;00m tol \u001b[38;5;129;01mis\u001b[39;00m \u001b[38;5;28;01mNone\u001b[39;00m:\n\u001b[0;32m   1924\u001b[0m     tol \u001b[38;5;241m=\u001b[39m S\u001b[38;5;241m.\u001b[39mmax(axis\u001b[38;5;241m=\u001b[39m\u001b[38;5;241m-\u001b[39m\u001b[38;5;241m1\u001b[39m, keepdims\u001b[38;5;241m=\u001b[39m\u001b[38;5;28;01mTrue\u001b[39;00m) \u001b[38;5;241m*\u001b[39m \u001b[38;5;28mmax\u001b[39m(A\u001b[38;5;241m.\u001b[39mshape[\u001b[38;5;241m-\u001b[39m\u001b[38;5;241m2\u001b[39m:]) \u001b[38;5;241m*\u001b[39m finfo(S\u001b[38;5;241m.\u001b[39mdtype)\u001b[38;5;241m.\u001b[39meps\n",
      "File \u001b[1;32mc:\\Users\\ruben\\anaconda3\\Lib\\site-packages\\numpy\\linalg\\linalg.py:1694\u001b[0m, in \u001b[0;36msvd\u001b[1;34m(a, full_matrices, compute_uv, hermitian)\u001b[0m\n\u001b[0;32m   1692\u001b[0m signature \u001b[38;5;241m=\u001b[39m \u001b[38;5;124m'\u001b[39m\u001b[38;5;124mD->d\u001b[39m\u001b[38;5;124m'\u001b[39m \u001b[38;5;28;01mif\u001b[39;00m isComplexType(t) \u001b[38;5;28;01melse\u001b[39;00m \u001b[38;5;124m'\u001b[39m\u001b[38;5;124md->d\u001b[39m\u001b[38;5;124m'\u001b[39m\n\u001b[0;32m   1693\u001b[0m s \u001b[38;5;241m=\u001b[39m gufunc(a, signature\u001b[38;5;241m=\u001b[39msignature, extobj\u001b[38;5;241m=\u001b[39mextobj)\n\u001b[1;32m-> 1694\u001b[0m s \u001b[38;5;241m=\u001b[39m s\u001b[38;5;241m.\u001b[39mastype(\u001b[43m_realType\u001b[49m\u001b[43m(\u001b[49m\u001b[43mresult_t\u001b[49m\u001b[43m)\u001b[49m, copy\u001b[38;5;241m=\u001b[39m\u001b[38;5;28;01mFalse\u001b[39;00m)\n\u001b[0;32m   1695\u001b[0m \u001b[38;5;28;01mreturn\u001b[39;00m s\n",
      "File \u001b[1;32mc:\\Users\\ruben\\anaconda3\\Lib\\site-packages\\numpy\\linalg\\linalg.py:153\u001b[0m, in \u001b[0;36m_realType\u001b[1;34m(t, default)\u001b[0m\n\u001b[0;32m    143\u001b[0m _real_types_map \u001b[38;5;241m=\u001b[39m {single : single,\n\u001b[0;32m    144\u001b[0m                    double : double,\n\u001b[0;32m    145\u001b[0m                    csingle : single,\n\u001b[0;32m    146\u001b[0m                    cdouble : double}\n\u001b[0;32m    148\u001b[0m _complex_types_map \u001b[38;5;241m=\u001b[39m {single : csingle,\n\u001b[0;32m    149\u001b[0m                       double : cdouble,\n\u001b[0;32m    150\u001b[0m                       csingle : csingle,\n\u001b[0;32m    151\u001b[0m                       cdouble : cdouble}\n\u001b[1;32m--> 153\u001b[0m \u001b[38;5;28;01mdef\u001b[39;00m \u001b[38;5;21m_realType\u001b[39m(t, default\u001b[38;5;241m=\u001b[39mdouble):\n\u001b[0;32m    154\u001b[0m     \u001b[38;5;28;01mreturn\u001b[39;00m _real_types_map\u001b[38;5;241m.\u001b[39mget(t, default)\n\u001b[0;32m    156\u001b[0m \u001b[38;5;28;01mdef\u001b[39;00m \u001b[38;5;21m_complexType\u001b[39m(t, default\u001b[38;5;241m=\u001b[39mcdouble):\n",
      "\u001b[1;31mKeyboardInterrupt\u001b[0m: "
     ]
    }
   ],
   "source": [
    "from statsmodels.stats.outliers_influence import variance_inflation_factor\n",
    "\n",
    "vif_data = pd.DataFrame()\n",
    "vif_data[\"feature\"] = df_merged.columns\n",
    "vif_data[\"VIF\"] = [variance_inflation_factor(df_merged.values, i) for i in range(df_merged.shape[1])]\n",
    "print(vif_data)\n"
   ]
  },
  {
   "cell_type": "code",
   "execution_count": 18,
   "metadata": {},
   "outputs": [
    {
     "data": {
      "text/html": [
       "<div>\n",
       "<style scoped>\n",
       "    .dataframe tbody tr th:only-of-type {\n",
       "        vertical-align: middle;\n",
       "    }\n",
       "\n",
       "    .dataframe tbody tr th {\n",
       "        vertical-align: top;\n",
       "    }\n",
       "\n",
       "    .dataframe thead th {\n",
       "        text-align: right;\n",
       "    }\n",
       "</style>\n",
       "<table border=\"1\" class=\"dataframe\">\n",
       "  <thead>\n",
       "    <tr style=\"text-align: right;\">\n",
       "      <th></th>\n",
       "      <th>feature</th>\n",
       "      <th>VIF</th>\n",
       "    </tr>\n",
       "  </thead>\n",
       "  <tbody>\n",
       "    <tr>\n",
       "      <th>0</th>\n",
       "      <td>PC1</td>\n",
       "      <td>10.293503</td>\n",
       "    </tr>\n",
       "    <tr>\n",
       "      <th>1</th>\n",
       "      <td>PC2</td>\n",
       "      <td>25.202608</td>\n",
       "    </tr>\n",
       "    <tr>\n",
       "      <th>4</th>\n",
       "      <td>PC5</td>\n",
       "      <td>11.086965</td>\n",
       "    </tr>\n",
       "    <tr>\n",
       "      <th>357</th>\n",
       "      <td>ACME</td>\n",
       "      <td>31.811918</td>\n",
       "    </tr>\n",
       "    <tr>\n",
       "      <th>358</th>\n",
       "      <td>V6409</td>\n",
       "      <td>10.396463</td>\n",
       "    </tr>\n",
       "    <tr>\n",
       "      <th>...</th>\n",
       "      <td>...</td>\n",
       "      <td>...</td>\n",
       "    </tr>\n",
       "    <tr>\n",
       "      <th>457</th>\n",
       "      <td>V3977</td>\n",
       "      <td>10.870017</td>\n",
       "    </tr>\n",
       "    <tr>\n",
       "      <th>461</th>\n",
       "      <td>month_5</td>\n",
       "      <td>11.072193</td>\n",
       "    </tr>\n",
       "    <tr>\n",
       "      <th>462</th>\n",
       "      <td>month_6</td>\n",
       "      <td>14.319716</td>\n",
       "    </tr>\n",
       "    <tr>\n",
       "      <th>463</th>\n",
       "      <td>month_7</td>\n",
       "      <td>12.401431</td>\n",
       "    </tr>\n",
       "    <tr>\n",
       "      <th>464</th>\n",
       "      <td>month_8</td>\n",
       "      <td>10.038908</td>\n",
       "    </tr>\n",
       "  </tbody>\n",
       "</table>\n",
       "<p>69 rows × 2 columns</p>\n",
       "</div>"
      ],
      "text/plain": [
       "     feature        VIF\n",
       "0        PC1  10.293503\n",
       "1        PC2  25.202608\n",
       "4        PC5  11.086965\n",
       "357     ACME  31.811918\n",
       "358    V6409  10.396463\n",
       "..       ...        ...\n",
       "457    V3977  10.870017\n",
       "461  month_5  11.072193\n",
       "462  month_6  14.319716\n",
       "463  month_7  12.401431\n",
       "464  month_8  10.038908\n",
       "\n",
       "[69 rows x 2 columns]"
      ]
     },
     "execution_count": 18,
     "metadata": {},
     "output_type": "execute_result"
    }
   ],
   "source": [
    "vif_data.sort_values(ascending=False, by=\"VIF\")\n",
    "vif_data[vif_data[\"VIF\"] > 10]"
   ]
  },
  {
   "cell_type": "markdown",
   "metadata": {},
   "source": [
    "## Outlier Detection and Removal"
   ]
  },
  {
   "cell_type": "code",
   "execution_count": 10,
   "metadata": {},
   "outputs": [],
   "source": [
    "def remove_outliers(df):\n",
    "    # Select only numeric columns\n",
    "    numeric_df = df.select_dtypes(include=['float'])\n",
    "    \n",
    "    # Calculate Q1, Q3, and IQR for numeric columns\n",
    "    Q1 = numeric_df.quantile(0.1)\n",
    "    Q3 = numeric_df.quantile(0.9)\n",
    "    IQR = Q3 - Q1\n",
    "    \n",
    "    # Determine the lower and upper bounds\n",
    "    lower_bound = Q1 - 1.5 * IQR\n",
    "    upper_bound = Q3 + 1.5 * IQR\n",
    "    \n",
    "    # Remove outliers\n",
    "    df_cleaned = df[~((numeric_df < lower_bound) | (numeric_df > upper_bound)).any(axis=1)]\n",
    "    \n",
    "    return df_cleaned\n",
    "\n",
    "def remove_highest_percent(df, n):\n",
    "    \"\"\"\n",
    "    Remove the n% highest observations from the DataFrame for each numeric column.\n",
    "\n",
    "    Parameters:\n",
    "    - df: DataFrame to clean\n",
    "    - n: Percentage of the highest observations to remove (between 0 and 100)\n",
    "\n",
    "    Returns:\n",
    "    - DataFrame after removing the highest n% observations\n",
    "    \"\"\"\n",
    "    # Select only numeric columns\n",
    "    numeric_df = df.select_dtypes(include=['float', 'int'])\n",
    "    \n",
    "    # Calculate the threshold for the highest n% observations\n",
    "    thresholds = numeric_df.quantile(1 - n / 100.0)\n",
    "    \n",
    "    # Remove the highest n% observations\n",
    "    df_cleaned = df[(numeric_df <= thresholds).all(axis=1)]\n",
    "    \n",
    "    return df_cleaned\n"
   ]
  },
  {
   "cell_type": "markdown",
   "metadata": {},
   "source": [
    "## Standardization of Data"
   ]
  },
  {
   "cell_type": "code",
   "execution_count": 30,
   "metadata": {},
   "outputs": [],
   "source": [
    "def standardize_data(df):\n",
    "    scaler = StandardScaler()\n",
    "    df_scaled = df.copy()\n",
    "    # Select numerical columns\n",
    "    numerical_columns = df.select_dtypes(include='float64').columns\n",
    "    numerical_columns = numerical_columns[numerical_columns != \"ACME\"]  # Exclude target column\n",
    "    df_scaled[numerical_columns] = scaler.fit_transform(df[numerical_columns])\n",
    "    return df_scaled\n"
   ]
  },
  {
   "cell_type": "code",
   "execution_count": 21,
   "metadata": {},
   "outputs": [
    {
     "name": "stderr",
     "output_type": "stream",
     "text": [
      "  File \"c:\\Users\\ruben\\anaconda3\\Lib\\site-packages\\joblib\\externals\\loky\\backend\\context.py\", line 282, in _count_physical_cores\n",
      "    raise ValueError(f\"found {cpu_count_physical} physical cores < 1\")\n"
     ]
    },
    {
     "data": {
      "image/png": "[encoded data removed]",
      "text/plain": [
       "<Figure size 1200x500 with 2 Axes>"
      ]
     },
     "metadata": {},
     "output_type": "display_data"
    }
   ],
   "source": [
    "# This is just me playing around, didnt yield anything useful\n",
    "\n",
    "import numpy as np\n",
    "import matplotlib.pyplot as plt\n",
    "from sklearn.cluster import KMeans\n",
    "from sklearn.metrics import silhouette_score\n",
    "\n",
    "\n",
    "# Define the range for the number of clusters\n",
    "k_range = range(2, 11)\n",
    "\n",
    "inertia = []\n",
    "silhouette_scores = []\n",
    "\n",
    "for k in k_range:\n",
    "    kmeans = KMeans(n_clusters=k, random_state=42)\n",
    "    kmeans.fit(standardize_data(df_merged))\n",
    "    inertia.append(kmeans.inertia_)\n",
    "    silhouette_scores.append(silhouette_score(standardize_data(df_merged), kmeans.labels_))\n",
    "\n",
    "# Plotting Elbow Method\n",
    "plt.figure(figsize=(12, 5))\n",
    "\n",
    "# Elbow Plot\n",
    "plt.subplot(1, 2, 1)\n",
    "plt.plot(k_range, inertia, marker='o')\n",
    "plt.title('Elbow Method')\n",
    "plt.xlabel('Number of clusters (k)')\n",
    "plt.ylabel('Inertia')\n",
    "plt.xticks(k_range)\n",
    "\n",
    "# Silhouette Plot\n",
    "plt.subplot(1, 2, 2)\n",
    "plt.plot(k_range, silhouette_scores, marker='o')\n",
    "plt.title('Silhouette Scores')\n",
    "plt.xlabel('Number of clusters (k)')\n",
    "plt.ylabel('Silhouette Score')\n",
    "plt.xticks(k_range)\n",
    "\n",
    "plt.tight_layout()\n",
    "plt.show()\n"
   ]
  },
  {
   "cell_type": "markdown",
   "metadata": {},
   "source": [
    "## PCA (Principal Component Analysis)"
   ]
  },
  {
   "cell_type": "code",
   "execution_count": 31,
   "metadata": {},
   "outputs": [
    {
     "data": {
      "text/html": [
       "<div>\n",
       "<style scoped>\n",
       "    .dataframe tbody tr th:only-of-type {\n",
       "        vertical-align: middle;\n",
       "    }\n",
       "\n",
       "    .dataframe tbody tr th {\n",
       "        vertical-align: top;\n",
       "    }\n",
       "\n",
       "    .dataframe thead th {\n",
       "        text-align: right;\n",
       "    }\n",
       "</style>\n",
       "<table border=\"1\" class=\"dataframe\">\n",
       "  <thead>\n",
       "    <tr style=\"text-align: right;\">\n",
       "      <th></th>\n",
       "      <th>PC1</th>\n",
       "      <th>PC2</th>\n",
       "      <th>PC3</th>\n",
       "      <th>PC4</th>\n",
       "      <th>PC5</th>\n",
       "      <th>PC6</th>\n",
       "      <th>PC7</th>\n",
       "      <th>PC8</th>\n",
       "      <th>PC9</th>\n",
       "      <th>PC10</th>\n",
       "      <th>...</th>\n",
       "      <th>month_8</th>\n",
       "      <th>month_9</th>\n",
       "      <th>month_10</th>\n",
       "      <th>month_11</th>\n",
       "      <th>month_12</th>\n",
       "      <th>VPC1</th>\n",
       "      <th>VPC2</th>\n",
       "      <th>VPC3</th>\n",
       "      <th>VPC4</th>\n",
       "      <th>VPC5</th>\n",
       "    </tr>\n",
       "  </thead>\n",
       "  <tbody>\n",
       "    <tr>\n",
       "      <th>0</th>\n",
       "      <td>-1.154927</td>\n",
       "      <td>0.083711</td>\n",
       "      <td>-0.357355</td>\n",
       "      <td>0.410459</td>\n",
       "      <td>-1.47305</td>\n",
       "      <td>-0.057548</td>\n",
       "      <td>0.479604</td>\n",
       "      <td>-0.387359</td>\n",
       "      <td>0.370585</td>\n",
       "      <td>-0.042497</td>\n",
       "      <td>...</td>\n",
       "      <td>0</td>\n",
       "      <td>0</td>\n",
       "      <td>0</td>\n",
       "      <td>0</td>\n",
       "      <td>0</td>\n",
       "      <td>-2.35007</td>\n",
       "      <td>0.002852</td>\n",
       "      <td>0.017188</td>\n",
       "      <td>0.116948</td>\n",
       "      <td>0.081879</td>\n",
       "    </tr>\n",
       "  </tbody>\n",
       "</table>\n",
       "<p>1 rows × 374 columns</p>\n",
       "</div>"
      ],
      "text/plain": [
       "        PC1       PC2       PC3       PC4      PC5       PC6       PC7  \\\n",
       "0 -1.154927  0.083711 -0.357355  0.410459 -1.47305 -0.057548  0.479604   \n",
       "\n",
       "        PC8       PC9      PC10  ...  month_8  month_9  month_10  month_11  \\\n",
       "0 -0.387359  0.370585 -0.042497  ...        0        0         0         0   \n",
       "\n",
       "   month_12     VPC1      VPC2      VPC3      VPC4      VPC5  \n",
       "0         0 -2.35007  0.002852  0.017188  0.116948  0.081879  \n",
       "\n",
       "[1 rows x 374 columns]"
      ]
     },
     "execution_count": 31,
     "metadata": {},
     "output_type": "execute_result"
    }
   ],
   "source": [
    "def perform_pca(X, n_components, prefix='VPC'):\n",
    "    pca = PCA(n_components=n_components)\n",
    "    X_pca = pca.fit_transform(X)\n",
    "    \n",
    "    # Create a DataFrame from the PCA results\n",
    "    pca_df = pd.DataFrame(X_pca)\n",
    "\n",
    "    # Rename columns\n",
    "    pca_df.columns = [f'{prefix}{i+1}' for i in range(pca_df.shape[1])]\n",
    "    \n",
    "    return pca_df\n",
    "\n",
    "# Perform PCA on the scaled data\n",
    "X_scaled = standardize_data(df_merged)\n",
    "X_pca = perform_pca(X_scaled, n_components=0.9)\n",
    "X_merged = pd.concat([standardize_data(df_merged.drop(columns=df_merged.filter(like='V').columns)), X_pca], axis=1)\n",
    "X_merged.head(1)"
   ]
  },
  {
   "cell_type": "markdown",
   "metadata": {},
   "source": [
    "# Feature Selection: \n",
    "## K-Best"
   ]
  },
  {
   "cell_type": "code",
   "execution_count": 23,
   "metadata": {},
   "outputs": [],
   "source": [
    "def select_features_kbest(X, y, k):\n",
    "    k_best = SelectKBest(score_func=f_regression, k=k)\n",
    "    X_kbest = k_best.fit_transform(X, y)\n",
    "\n",
    "    selected_features = X.columns[k_best.get_support()]\n",
    "    print(\"Selected Features (KBest):\", selected_features.tolist())\n",
    "    return selected_features"
   ]
  },
  {
   "cell_type": "markdown",
   "metadata": {},
   "source": [
    "## Elastic Net"
   ]
  },
  {
   "cell_type": "code",
   "execution_count": 24,
   "metadata": {},
   "outputs": [],
   "source": [
    "\n",
    "from sklearn.linear_model import ElasticNetCV\n",
    "from sklearn.linear_model import ElasticNet\n",
    "\n",
    "def elastic_net_feature_selection_with_cv(X, y):\n",
    "    # Create a range of alpha values and l1_ratio values\n",
    "    alphas = np.logspace(-5, 5, 100)\n",
    "    l1_ratios = np.linspace(0, 1, 10)  # L1 ratio from 0 (Ridge) to 1 (Lasso)\n",
    "\n",
    "    # Create and fit ElasticNetCV\n",
    "    elastic_net_cv = ElasticNetCV(alphas=alphas, l1_ratio=l1_ratios, cv=5)\n",
    "    elastic_net_cv.fit(X, y)\n",
    "\n",
    "    # Best parameters\n",
    "    best_alpha = elastic_net_cv.alpha_\n",
    "    best_l1_ratio = elastic_net_cv.l1_ratio_\n",
    "\n",
    "    # Fit the Elastic Net model with the best parameters\n",
    "    elastic_net = ElasticNet(alpha=best_alpha, l1_ratio=best_l1_ratio)\n",
    "    elastic_net.fit(X, y)\n",
    "\n",
    "    # Get the coefficients and select features\n",
    "    elastic_net_coefficients = pd.Series(elastic_net.coef_, index=X.columns)\n",
    "    selected_features = elastic_net_coefficients[elastic_net_coefficients.abs() > 0.05].index.tolist()\n",
    "\n",
    "    return selected_features\n"
   ]
  },
  {
   "cell_type": "markdown",
   "metadata": {},
   "source": [
    "# Models for generating predictions\n",
    "## Random Forest, Gradient Boosting, Neural Network Models"
   ]
  },
  {
   "cell_type": "code",
   "execution_count": 33,
   "metadata": {},
   "outputs": [],
   "source": [
    "def train_model(model, X_train, y_train, X_test, y_test):\n",
    "    model.fit(X_train, y_train)\n",
    "    y_pred = model.predict(X_test)\n",
    "    importances = model.feature_importances_\n",
    "    return pd.DataFrame(y_pred)"
   ]
  },
  {
   "cell_type": "code",
   "execution_count": 26,
   "metadata": {},
   "outputs": [],
   "source": [
    "# Function to build and compile a neural network\n",
    "def build_nn_model(input_dim):\n",
    "    model = Sequential()\n",
    "    model.add(Dense(64, input_dim=input_dim, activation='relu'))\n",
    "    model.add(Dense(32, activation='relu'))\n",
    "    model.add(Dense(1))  # Assuming regression output\n",
    "    model.compile(optimizer=Adam(learning_rate=0.001), loss='mean_squared_error')\n",
    "    return model"
   ]
  },
  {
   "cell_type": "code",
   "execution_count": 34,
   "metadata": {},
   "outputs": [],
   "source": [
    "# Load the training data (cleaning and scaling are not mandatory)\n",
    "# df_merged = load_and_merge_datasets(\"solar_dataset.csv\", \"additional_variables.csv\", False)\n",
    "# df_cleaned = remove_outliers(df_merged)\n",
    "df_scaled = X_merged  # standardize_data(df_cleaned)"
   ]
  },
  {
   "cell_type": "code",
   "execution_count": 33,
   "metadata": {},
   "outputs": [],
   "source": [
    "# Here we can choose what data we train on in the creation of the model\n",
    "# Split dataset for training\n",
    "X_train = df_scaled.drop(columns=[\"ACME\"])\n",
    "y_train = df_scaled[\"ACME\"]"
   ]
  },
  {
   "cell_type": "code",
   "execution_count": 34,
   "metadata": {},
   "outputs": [],
   "source": [
    "# Load the testing data for kaggle scoring\n",
    "df_test = load_and_merge_datasets(\"solar_dataset.csv\", \"additional_variables.csv\", True)\n",
    "df_test_scaled = standardize_data(df_test)\n",
    "# X_test always stays the same\n",
    "X_test = df_test_scaled.drop(columns=[\"ACME\"])\n",
    "# y test empty cos we are scoring on kaggle, we dont have the acual values to compare\n",
    "y_test = pd.DataFrame()"
   ]
  },
  {
   "cell_type": "code",
   "execution_count": 35,
   "metadata": {},
   "outputs": [],
   "source": [
    "# Here we have to select which way we are going to select features that we use in the training and predictions\n",
    "# Elastic Net\n",
    "# selected_features = elastic_net_feature_selection_with_cv(X_train, y_train)\n",
    "\n",
    "# K best\n",
    "# selected_features = select_features_kbest(X_train, y_train, k=100)\n",
    "\n",
    "# All \n",
    "selected_features = df_scaled.drop(columns=[\"ACME\"]).columns"
   ]
  },
  {
   "cell_type": "code",
   "execution_count": 36,
   "metadata": {},
   "outputs": [],
   "source": [
    "# List of models you want to train\n",
    "#    \"Random_Forest\": RandomForestRegressor(n_estimators=1000, random_state=42),\n",
    "#    \"Neural_Network\": None,\n",
    "\n",
    "models = {\n",
    "    \"Gradient_Boosting\": GradientBoostingRegressor(n_estimators=1000, random_state=42)\n",
    "}\n",
    "\n",
    "# Read the sample submission file\n",
    "submission = pd.read_csv(\"sampleSubmission.csv\")\n",
    "\n",
    "# Iterate over each model in the list\n",
    "for model_name in models.keys():\n",
    "    if model_name == \"Neural_Network\":\n",
    "        # Build and train the neural network\n",
    "        nn_model = build_nn_model(X_train[selected_features].shape[1])\n",
    "        nn_model.fit(X_train[selected_features], y_train, epochs=100, batch_size=32, verbose=0)\n",
    "        result = nn_model.predict(X_test[selected_features]).flatten()  # Flatten the output\n",
    "    else:\n",
    "        # Train and evaluate the other models\n",
    "        model = models[model_name]\n",
    "        result = train_model(model, X_train[selected_features], y_train, X_test[selected_features], y_test)\n",
    "\n",
    "    # Create a copy of the submission DataFrame for the current model\n",
    "    model_submission = submission.copy()\n",
    "    \n",
    "    # Add predictions to the new DataFrame\n",
    "    model_submission[\"ACME\"] = result\n",
    "    \n",
    "    # Save the predictions to a CSV file\n",
    "    model_submission.to_csv(f\"{model_name}.csv\", index=False)"
   ]
  }
 ],
 "metadata": {
  "kernelspec": {
   "display_name": "base",
   "language": "python",
   "name": "python3"
  },
  "language_info": {
   "codemirror_mode": {
    "name": "ipython",
    "version": 3
   },
   "file_extension": ".py",
   "mimetype": "text/x-python",
   "name": "python",
   "nbconvert_exporter": "python",
   "pygments_lexer": "ipython3",
   "version": "3.12.5"
  }
 },
 "nbformat": 4,
 "nbformat_minor": 2
}
